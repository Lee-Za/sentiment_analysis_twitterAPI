{
 "cells": [
  {
   "cell_type": "markdown",
   "id": "9e100313-ff74-4272-8174-2d44315b0f56",
   "metadata": {},
   "source": [
    "# Twitter API"
   ]
  },
  {
   "cell_type": "code",
   "execution_count": 94,
   "id": "eca9bce3-45dd-44f5-8cd3-b1ef0d8daac6",
   "metadata": {},
   "outputs": [
    {
     "name": "stdout",
     "output_type": "stream",
     "text": [
      "get_tweets.py\n"
     ]
    }
   ],
   "source": [
    "!ls"
   ]
  },
  {
   "cell_type": "code",
   "execution_count": 90,
   "id": "2cca96d0-a7c9-4b7a-8005-d0842b9d7288",
   "metadata": {},
   "outputs": [
    {
     "name": "stdout",
     "output_type": "stream",
     "text": [
      "/Users/lisa/Desktop/Spiced/git/unsupervised-lemon-student-code/06-sentiment-analysis/tweets\n"
     ]
    }
   ],
   "source": [
    "%cd tweets/"
   ]
  },
  {
   "cell_type": "code",
   "execution_count": 7,
   "id": "96c53966-4aa7-45c7-8a8d-6b1c7b6ca482",
   "metadata": {},
   "outputs": [
    {
     "name": "stdout",
     "output_type": "stream",
     "text": [
      "Requirement already satisfied: tweepy in /opt/anaconda3/lib/python3.8/site-packages (3.10.0)\n",
      "Requirement already satisfied: six>=1.10.0 in /opt/anaconda3/lib/python3.8/site-packages (from tweepy) (1.15.0)\n",
      "Requirement already satisfied: requests[socks]>=2.11.1 in /opt/anaconda3/lib/python3.8/site-packages (from tweepy) (2.25.1)\n",
      "Requirement already satisfied: requests-oauthlib>=0.7.0 in /opt/anaconda3/lib/python3.8/site-packages (from tweepy) (1.3.0)\n",
      "Requirement already satisfied: oauthlib>=3.0.0 in /opt/anaconda3/lib/python3.8/site-packages (from requests-oauthlib>=0.7.0->tweepy) (3.1.1)\n",
      "Requirement already satisfied: certifi>=2017.4.17 in /opt/anaconda3/lib/python3.8/site-packages (from requests[socks]>=2.11.1->tweepy) (2021.5.30)\n",
      "Requirement already satisfied: idna<3,>=2.5 in /opt/anaconda3/lib/python3.8/site-packages (from requests[socks]>=2.11.1->tweepy) (2.10)\n",
      "Requirement already satisfied: urllib3<1.27,>=1.21.1 in /opt/anaconda3/lib/python3.8/site-packages (from requests[socks]>=2.11.1->tweepy) (1.26.4)\n",
      "Requirement already satisfied: chardet<5,>=3.0.2 in /opt/anaconda3/lib/python3.8/site-packages (from requests[socks]>=2.11.1->tweepy) (4.0.0)\n",
      "Requirement already satisfied: PySocks!=1.5.7,>=1.5.6 in /opt/anaconda3/lib/python3.8/site-packages (from requests[socks]>=2.11.1->tweepy) (1.7.1)\n"
     ]
    }
   ],
   "source": [
    "!pip install tweepy"
   ]
  },
  {
   "cell_type": "code",
   "execution_count": 1,
   "id": "dfc9ae4d-95c3-4f02-aaaf-99332caeed35",
   "metadata": {},
   "outputs": [],
   "source": [
    "import config\n",
    "import tweepy"
   ]
  },
  {
   "cell_type": "code",
   "execution_count": 58,
   "id": "d5bcb19c-b5db-4985-bd9b-eb1d92ddd2dc",
   "metadata": {},
   "outputs": [],
   "source": [
    "auth = tweepy.OAuthHandler(config.API_KEY, config.API_SECRET)\n",
    "auth.set_access_token(config.ACCESS_TOKEN, config.ACCESS_TOKEN_SECRET)\n",
    "\n",
    "api = tweepy.API(auth)"
   ]
  },
  {
   "cell_type": "code",
   "execution_count": 59,
   "id": "27b971fb-9aac-4350-bc0b-9e1898884536",
   "metadata": {},
   "outputs": [
    {
     "data": {
      "text/plain": [
       "'nJuPdB5x5KK5Qy4YHKLEAMzN2'"
      ]
     },
     "execution_count": 59,
     "metadata": {},
     "output_type": "execute_result"
    }
   ],
   "source": [
    "config.API_KEY"
   ]
  },
  {
   "cell_type": "code",
   "execution_count": 60,
   "id": "6613f6fd-58d9-45b4-8bb1-8e0b9e3bfba7",
   "metadata": {},
   "outputs": [],
   "source": [
    "user = api.me()"
   ]
  },
  {
   "cell_type": "code",
   "execution_count": 61,
   "id": "4c1fd5ee-1628-4a8c-9574-208d5cac10d0",
   "metadata": {},
   "outputs": [
    {
     "data": {
      "text/plain": [
       "'Lee Za'"
      ]
     },
     "execution_count": 61,
     "metadata": {},
     "output_type": "execute_result"
    }
   ],
   "source": [
    "user.name"
   ]
  },
  {
   "cell_type": "code",
   "execution_count": 104,
   "id": "fc0d969e-5203-4e4a-923b-1207a2fa7589",
   "metadata": {
    "collapsed": true,
    "jupyter": {
     "outputs_hidden": true
    },
    "tags": []
   },
   "outputs": [
    {
     "name": "stdout",
     "output_type": "stream",
     "text": [
      "1\n",
      "Greenpeace\n",
      "{'text': 'Our planet is losing its #biodiversity at a rate so alarming it’s comparable to the 5th mass extinction 65M years ago. Just 15% of the world’s forests remain intact, and only 3% of the world’s oceans are free from human pressures. \\n\\nRead  more &gt;&gt; https://t.co/kUG7pwdva1 https://t.co/WJVB9Q6MJF'}\n",
      "2\n",
      "Greenpeace\n",
      "{'text': 'RT @greenpeacemx: Una medalla de oro que Japón parece estar listo para ganar, es la de los #JuegosOlímpicos más calurosos y húmedos de la h…'}\n",
      "3\n",
      "Greenpeace\n",
      "{'text': 'Mangroves are essential to fighting both the ocean and the climate crisis - but they’re in decline. Learn how this school in Seychelles found out how vulnerable this ecosystem was 25 years ago, and the restoration project they have been working on since then! https://t.co/N6f9ZEejKl'}\n",
      "4\n",
      "Greenpeace\n",
      "{'text': 'RT @GreenpeaceBR: Precisamos acabar com o garimpo ilegal em terras indígenas. Nos ajude a cobrar do Ministério da Justiça a garantia da seg…'}\n",
      "5\n",
      "Greenpeace\n",
      "{'text': 'Desde la creación de su propia campaña hasta la celebración de las victorias de amigos en la comunidad climática, @greenpeacearg te dice 10 cosas que podría hacer en su nueva plataforma de movimiento climático. Únete ahora! ⬇️  \\n\\nhttps://t.co/9YJNUYPNxO'}\n",
      "6\n",
      "Greenpeace\n",
      "{'text': 'RT @socioambiental: Aprovado por 206 votos a favor, o #PL2633Não \"demonstra a disposição de uma maioria parlamentar em legislar a favor do…'}\n",
      "7\n",
      "Greenpeace\n",
      "{'text': 'This past month, we have seen extreme weather events devastating forests around the world. We don’t have time for more delays. The time for companies and governments to act on climate is NOW!\\n\\nhttps://t.co/5RFIsKPXMZ'}\n",
      "8\n",
      "Greenpeace\n",
      "{'text': 'RT @greenpeacemx: Así se ve el cambio climático ⚠️\\n\\nCada vez es más frecuente escuchar sobre inundaciones no solo en Europa y Asia, también…'}\n",
      "9\n",
      "Greenpeace\n",
      "{'text': \"If you were a student who was perpetuating crimes against humanity you'd be kicked out of school.\\n\\nWell, so should the fossil fuel industry.\\n\\nhttps://t.co/Al85vEXzFy\"}\n",
      "10\n",
      "Greenpeace\n",
      "{'text': 'Colossal forest fires have now devastated 13.4 million hectares of land in #Russia so far in 2021.\\n\\nSmoke from the #Siberia fires now covers an area of 5.3 million square kilometers, an area larger than the European Union.\\n\\n#ClimateEmergency #Fires\\n\\nhttps://t.co/GhWdo8PI3N'}\n",
      "11\n",
      "Greenpeace\n",
      "{'text': '\"There is no safe way to extract or to burn oil and there is no safe way of transporting it either. The industry knows it, but does not feel the need to change, even in the midst of the triple crisis of climate change, biodiversity decline and pollution.\"\\n\\nhttps://t.co/CXwZay8J5g'}\n",
      "12\n",
      "Greenpeace\n",
      "{'text': 'This is perfect.\\n\\nYes. Only 9% of all plastic waste ever made globally has been recycled.\\n\\nBig brands are working hand-in-hand with the #FossilFuels industry to produce even more plastic.\\n\\n#HonestAds #BreakFreeFromPlastic\\n\\nhttps://t.co/xfxXvZJBfG'}\n",
      "13\n",
      "Greenpeace\n",
      "{'text': 'This year @Shell is investing 5 times more in oil and gas than in renewable energy 🙄\\n \\nShell must stop pouring money into #greenwashing marketing &amp; start investing in solving the #ClimateCrisis that they are fueling.\\n \\n#FossilFreeRevolution #ShellResults #PoweringProgress https://t.co/Lh5V1JilvI'}\n",
      "14\n",
      "Greenpeace\n",
      "{'text': \"RT @FightInequality: 🕓9 Days to go!!!\\n\\nHere's is a lineup of the plenary speakers and artists performing at the #FestivalToFightInequality2…\"}\n",
      "15\n",
      "Greenpeace\n",
      "{'text': 'RT @grist: The Science Museum in London has a new exhibit on carbon capture, sponsored by Shell. https://t.co/XTe11rgbya'}\n",
      "16\n",
      "Greenpeace\n",
      "{'text': 'This is one important step, but the issue of #ModernSlavery at sea is more than just one vessel. For people and the planet, we need both environmental rights AND #HumanRights to be protected. https://t.co/w8CfX5CFGB'}\n",
      "17\n",
      "Greenpeace\n",
      "{'text': 'RT @ClimateHome: 🗓️ Last week was the deadline for countries to submit their updated climate plans (NDCs), including net zero targets\\n\\nBut…'}\n",
      "18\n",
      "Greenpeace\n",
      "{'text': 'No matter where in the world we live, the #ClimateCrisis affects us all. \\n\\nWe have to step up and push for more action in our #ClimateEmergency fight.\\n\\nhttps://t.co/X9Rg55ER9V'}\n",
      "19\n",
      "Greenpeace\n",
      "{'text': 'RT @GreenpeaceSEA: No time to waste. \\nThailand must immediately ratify the Basel Convention Ban Amendment and put an end to all types of im…'}\n",
      "20\n",
      "Greenpeace\n",
      "{'text': 'RT @GreenpeaceNZ: \"We are rapidly running out of time to protect the ocean for the future. Seamounts underpin the health of the sea, suppor…'}\n",
      "1\n",
      "WHO\n",
      "{'text': 'RT @DrTedros: ‘First shots before third shots.’ Well put, @CarlosdelRio7. Thanks for supporting #VaccinEquity to ensure #healthworkers and…'}\n",
      "2\n",
      "WHO\n",
      "{'text': 'RT @DrTedros: Urgent dose sharing is vital to fill our current #COVID19 vaccine supply gap. @WHO calls on all countries that have already v…'}\n",
      "3\n",
      "WHO\n",
      "{'text': 'RT @DrTedros: The 🌍 is in the grip of a global vaccine crisis, as a shocking distribution imbalance has created a two-track #COVID19 pandem…'}\n",
      "4\n",
      "WHO\n",
      "{'text': 'Dr @Kate_L_OBrien explains what we know so far about  #COVID19 vaccine \"booster\" shots, and why making sure at-risk people 𝙚𝙫𝙚𝙧𝙮𝙬𝙝𝙚𝙧𝙚 get 1st and 2nd doses should be the top priority. ⬇️\\n\\n#VaccinEquity https://t.co/igI76vF5tK'}\n",
      "5\n",
      "WHO\n",
      "{'text': 'Hospitals 🏥 can support mothers to breastfeed by helping them know when their baby is hungry and not limiting breastfeeding times.\\nSupport #breastfeeding. \\n🤱🏻🤱🏼🤱🏽🤱🏾🤱🏿\\n#WorldBreastfeedingWeek https://t.co/ZkvI8fXZRi'}\n",
      "6\n",
      "WHO\n",
      "{'text': '@UNReliefChief .@WHO calls for unimpeded access for food and health and other assistance wherever needed, and joins @UNReliefChief and @UNOCHA in calling for an end to the conflict in #Ethiopia.'}\n",
      "7\n",
      "WHO\n",
      "{'text': '@UNReliefChief .@WHO’s priority is to resupply health facilities so #healthworkers can return to providing essential health care services. Last week, some medical supplies from WHO arrived in Mekelle, #Tigray and are being distributed to hospitals.  Much more is needed.\\nhttps://t.co/D0qwWoqZ9k'}\n",
      "8\n",
      "WHO\n",
      "{'text': 'In #Tigray, where over 90% of the population requires life-saving assistance, most health centres are not functional and all equipment and medicines need to be replaced - @UNReliefChief Martin Griffiths noted during his recent visit.\\n\\nhttps://t.co/Sbvuflk4Yk'}\n",
      "9\n",
      "WHO\n",
      "{'text': 'Patient harm in health care is unacceptable.\\n\\nThe 🆕 action plan aims to drive forward #PatientSafety policies, strategies &amp; actions based on:\\n🧪 science\\n📄 patient experience\\n🔄 system design\\n🤝 partnerships \\n \\n👉 https://t.co/RvfAW4De4Q https://t.co/D64viKmTNA'}\n",
      "10\n",
      "WHO\n",
      "{'text': 'Youth voices 📢 are essential as we work towards better global health &amp; wellbeing. \\n\\nJoin an open conversation between @DrTedros &amp; youth innovators on \\n\\n🗓️ 9 August 2021\\n🕒 12 - 1PM CEST\\n\\nRegister now 👉https://t.co/ZWf8GiyJcv https://t.co/pclJPoHDlt'}\n",
      "11\n",
      "WHO\n",
      "{'text': 'Implementing the 🆕 Global #PatientSafety Action Plan 2021-2030 will help prevent &amp; reduce risks, errors &amp; harm that occur to patients when they receive health care.\\n\\nEvery patient should receive:\\n✅ safe &amp; respectful care\\n✅ every time\\n✅ everywhere\\n \\n👉 https://t.co/RvfAW4De4Q https://t.co/oaMsETfK2j'}\n",
      "12\n",
      "WHO\n",
      "{'text': 'Major challenges for #PatientSafety:\\n💊 Medication errors \\n🏥 Health care-associated infections \\n🩹 Unsafe surgical care procedures \\n💉 Unsafe injection practices \\n🧪 Diagnostic errors \\n🆎 Unsafe transfusion practices \\n☢️ Radiation errors \\n🧫 Sepsis \\n \\n👉 https://t.co/RvfAW4De4Q https://t.co/cEesyEDOYj'}\n",
      "13\n",
      "WHO\n",
      "{'text': 'No one should be harmed in health care.\\nYet, every minute, 5 patients die because of unsafe care.\\n\\nThe 🆕 Global Patient Safety Action Plan 2021-2030 provides strategic direction for eliminating avoidable harm in health care &amp; improving #PatientSafety\\n \\n👉 https://t.co/RvfAW4De4Q https://t.co/vVJBQCbInP'}\n",
      "14\n",
      "WHO\n",
      "{'text': \"It's #WorldBreastfeedingWeek. Join our Q&amp;A on #breastfeeding &amp; ask your questions! #AskWHO https://t.co/dBecx7NHcL\"}\n",
      "15\n",
      "WHO\n",
      "{'text': 'Hospitals can support mothers to breastfeed by:\\n✅ letting mothers and babies stay together day and night\\n✅ making sure that mothers of sick babies can stay near their babies.\\n\\nSupport #breastfeeding mothers! \\n🤱🏻\\n🤱🏼\\n🤱🏽\\n🤱🏾\\n🤱🏿\\n#WorldBreastfeedingWeek https://t.co/CsfHK6RMDY'}\n",
      "16\n",
      "WHO\n",
      "{'text': 'RT @DrTedros: #HealthWorkers, older people &amp; other at-risk groups need #COVID19 vaccines now. @WHO is calling for a moratorium on boosters…'}\n",
      "17\n",
      "WHO\n",
      "{'text': 'RT @DrTedros: I am deeply grateful to 🇫🇷 President @EmmanuelMacron and @UN Secretary-General @antonioguterres for organising today’s confer…'}\n",
      "18\n",
      "WHO\n",
      "{'text': 'RT @DrTedros: .@WHO &amp; partners are:\\n1. providing access to life-saving health services for those worst-affected by the crisis\\n2. supporting…'}\n",
      "19\n",
      "WHO\n",
      "{'text': 'RT @DrTedros: Today we mark one year since a tragic explosion in #Beirut. The explosion severely damaged health facilities &amp; had far-reachi…'}\n",
      "20\n",
      "WHO\n",
      "{'text': 'Hospitals can support mothers to breastfeed by:\\n✅ giving only breast milk unless there are medical reasons\\n✅ prioritizing donor human milk when a supplement is needed, and\\n✅ helping mothers who want to formula feed to do so safely\\n🤱🏻🤱🏼🤱🏽🤱🏾🤱🏿\\n#WorldBreastfeedingWeek https://t.co/5pn5Sa43Zz'}\n",
      "1\n",
      "CNBC\n",
      "{'text': \"Here's how this 30-year-old making $95,000 a year was able to buy a $252,275 home: https://t.co/wdi7Ajn0IN (via @CNBCMakeIt) https://t.co/vGlq5ttenb\"}\n",
      "2\n",
      "CNBC\n",
      "{'text': \"RT @Grow_mag: The second enhanced\\xa0Child Tax Credit\\xa0payment worth up to $300 per child is set to hit parents' bank accounts next week on Fri…\"}\n",
      "3\n",
      "CNBC\n",
      "{'text': 'RT @thenewsoncnbc: The FDA plans to have a national strategy for administering extra doses of vaccines to the immunocompromised within a fe…'}\n",
      "4\n",
      "CNBC\n",
      "{'text': 'RT @thenewsoncnbc: \"The USA did everything wrong in the men\\'s relay ... it was a total embarrassment for a USA team to look worse than the…'}\n",
      "5\n",
      "CNBC\n",
      "{'text': 'RT @thenewsoncnbc: \"The system is failing these athletes.\" Olympic Legend Carl Lewis says the 4x100 relay effort was a \"total embarrassment…'}\n",
      "6\n",
      "CNBC\n",
      "{'text': 'Asia-Pacific markets set for mixed start as investors await U.S. jobs report https://t.co/FybBbLdvo0'}\n",
      "7\n",
      "CNBC\n",
      "{'text': 'RT @PowerLunch: Older Americans going all in on crypto as a retirement strategy according to @Bitcoin_IRA. The Co-Founder and COO discusses…'}\n",
      "8\n",
      "CNBC\n",
      "{'text': 'ICYMI: Robinhood says in an amended filing that existing shareholders will sell 97.9 million shares over time and it will not receive any of the proceeds from the stock sale. https://t.co/1ChBpckP9F https://t.co/RguIS7hLNf'}\n",
      "9\n",
      "CNBC\n",
      "{'text': \"The IRS has seized $1.2 billion worth of cryptocurrency this fiscal year – here's what happens to it. @KenzieSigalos reports. https://t.co/9p2LfzbFwQ\"}\n",
      "10\n",
      "CNBC\n",
      "{'text': 'RT @thenewsoncnbc: The town of Greenville, California has been almost totally eliminated by the catastrophic Dixie fire that has climbed in…'}\n",
      "11\n",
      "CNBC\n",
      "{'text': 'Looking to invest for the first time? Here are 5 common mistakes people make and how to avoid them when you’re starting out. #investinyou (In partnership with @acorns.) https://t.co/gwUb7rkYWX https://t.co/CjOGiaLnxh'}\n",
      "12\n",
      "CNBC\n",
      "{'text': \"Today's numbers on tonight's @MadMoneyonCNBC Podcast with @JimCramer by following the link here https://t.co/6d5ilude0X https://t.co/DqkUcSS0Oo\"}\n",
      "13\n",
      "CNBC\n",
      "{'text': 'JPMorgan, led by bitcoin skeptic Jamie Dimon, quietly unveils access to a half-dozen crypto funds https://t.co/awVO0ZqJS0'}\n",
      "14\n",
      "CNBC\n",
      "{'text': 'Shares of DropBox,Expedia and Virgin Galactic are all on the move. Listen to the @CNBCFastMoney podcast here https://t.co/batr6ehAbd https://t.co/k2QXCUXZr0'}\n",
      "15\n",
      "CNBC\n",
      "{'text': 'Want to sound smarter? Avoid these 24 overused words and phrases that make you sound \"pretentious,\" say grammar experts. (via @CNBCMakeIt) https://t.co/0dPZE8f1S9'}\n",
      "16\n",
      "CNBC\n",
      "{'text': '“We are seeing more companies delaying their return to work plans and adjusting those plans as they focus on the health and safety of their employees, of customers as well as its suppliers,\" @ShelArchambeau said on @SquawkCNBC. https://t.co/5SyShTSOqT https://t.co/p0FS43ZA6Q'}\n",
      "17\n",
      "CNBC\n",
      "{'text': 'Biden signs bill awarding Congressional Gold Medals to those who protected Capitol from rioters on Jan. 6 https://t.co/FnY8WZnXt7'}\n",
      "18\n",
      "CNBC\n",
      "{'text': \"RT @KenzieSigalos: Didn't get as much attention but EIP-3554 also activated  as part of #ethereum's London hard fork. It moves up the deton…\"}\n",
      "19\n",
      "CNBC\n",
      "{'text': \"If you say any of these 6 things during the job interview, don't expect to get an offer: Career expert. (via @CNBCMakeIt) https://t.co/Upwnnn6M7L\"}\n",
      "20\n",
      "CNBC\n",
      "{'text': \"CEO of Wrangler parent says 'global casualization' will continue to dominate apparel market https://t.co/KhNX0Wqero\"}\n",
      "1\n",
      "UNHumanRights\n",
      "{'text': 'RT @OHCHR_MENA: #سوريا: \"يجب تنفيذ وقف إطلاق النار فورًا من أجل التخفيف من معاناة المدنيين في درعا\"\\n\\nدقّت المفوضة السامية لحقوق الإنسان ميش…'}\n",
      "2\n",
      "UNHumanRights\n",
      "{'text': '🇸🇾 #Syria: UN Human Rights Chief @mbachelet raises alarm at plight of civilians effectively under siege in #DaraaAlBalad amid ongoing hostilities.\\n\\nShe calls on the parties to the conflict to allow and facilitate rapid access for humanitarian relief.\\n\\n👉 https://t.co/ChzLRWwEd5 https://t.co/pAXagIUNd5'}\n",
      "3\n",
      "UNHumanRights\n",
      "{'text': 'RT @UN: #UNGA establishes new platform to improve lives of people of African descent, who have been suffering from racism &amp; the legacy of e…'}\n",
      "4\n",
      "UNHumanRights\n",
      "{'text': '🇨🇫 #CentralAfricanRepublic: New @UN report details dire and worsening #HumanRights situation over the past year, when armed groups carried out a violent bid to disrupt elections.\\n\\nMounting human rights abuses and violations must end urgently.\\n\\n👉 https://t.co/2edpdeDqTa https://t.co/gu83ejNnHC'}\n",
      "5\n",
      "UNHumanRights\n",
      "{'text': '“We need to stop denying racism and start dismantling it”.  Learn about our event, marking the midterm review of  Intl Decade for People of #AfricanDescent. \"See Us, Hear Us, Count Us In\" features  artists, musicians, young voices,  experts:  https://t.co/NZiC7iWowe https://t.co/DoZ29VB7q8'}\n",
      "6\n",
      "UNHumanRights\n",
      "{'text': 'RT @OHCHR_MENA: #لبنان: تشدّد مفوضة الأمم المتحدة السامية لحقوق الإنسان ميشيل باشيليت اليوم على ضرورة ضمان الحكومة تحقيقا شفّافا وفعّالا وش…'}\n",
      "7\n",
      "UNHumanRights\n",
      "{'text': '#Beirut port explosion anniversary: @mbachelet stresses urgent need for #Lebanon govt to ensure transparent, effective, thorough &amp; impartial investigation &amp; hold those responsible accountable. Victims’ rights to effective remedy+reparations must be upheld https://t.co/auoZbJ8jVX https://t.co/ZIX8NpIwMx'}\n",
      "8\n",
      "UNHumanRights\n",
      "{'text': \"#Iraq: Implementation of laws are key to #endtorture in detention - @mbachelet . The country's legal framework to prevent ill-treatment must be translated into effective measures to tackle torture in detention centres &amp; prevent further violations: https://t.co/8bArWO1xvs https://t.co/iB0kmIiKX9\"}\n",
      "9\n",
      "UNHumanRights\n",
      "{'text': 'On 2 August we annually remember #Roma &amp; Sinti victims of the Holocaust. And we commit to combat anti-Romani racism &amp; discrimination existing today. Many Roma still lack access to basic services, and suffer from police brutality and hate speech. #FightRacism #Stand4HumanRights https://t.co/8xH6sGmBre'}\n",
      "10\n",
      "UNHumanRights\n",
      "{'text': 'RT @UNAMAnews: The United Nations in #Afghanistan condemns the attack today on its compound in #Herat that killed an Afghan police guard &amp;…'}\n",
      "11\n",
      "UNHumanRights\n",
      "{'text': 'At an event  to mark the 20th anniversary of the Durban World Conference Against Racism, Racial Discrimination, Xenophobia and Related Intolerance, @mbachelet emphasised the role of young people in demanding – and building – equality. https://t.co/i8wuuBOq3x https://t.co/N40nakBPHi'}\n",
      "12\n",
      "UNHumanRights\n",
      "{'text': 'Millions of people have been thrown into extreme poverty during the #COVID19 pandemic. UN expert  Olivier De Schutter calls for social protection to be strengthened before the next crisis. He suggests creating a Global Fund for Social Protection : \\nhttps://t.co/SSBJKv6TOi https://t.co/lOuSMVPut2'}\n",
      "13\n",
      "UNHumanRights\n",
      "{'text': \"RT @ohchr_sa: Show your support for our #FightRacism campaign! \\nIt's easy and fun! \\n\\n🔺Visit https://t.co/tRVQK3F6iU\\n🔺Add photo with “I Stan…\"}\n",
      "14\n",
      "UNHumanRights\n",
      "{'text': 'RT @ohchr_sa: As we commemorate 20 years of the Durban Declaration and Programme of Action, we must empower youth as agents of change to:\\n🔺…'}\n",
      "15\n",
      "UNHumanRights\n",
      "{'text': 'RT @ohchr_sa: As we renew our commitment to the Durban Declaration and Programme of Action +20, youth are asking for a just 🌐 free of racis…'}\n",
      "16\n",
      "UNHumanRights\n",
      "{'text': 'RT @ohchr_sa: Join us at an EVENT to commemorate the 20th anniversary of the:\\n👉 Durban Declaration and Programme of Action\\n👉 World conferen…'}\n",
      "17\n",
      "UNHumanRights\n",
      "{'text': 'RT @UNIraq: Remarks by Ms. Danielle Bell, Representative, Office of the High Commissioner for Human Rights (OHCHR)\\nChief, Human Rights Offi…'}\n",
      "18\n",
      "UNHumanRights\n",
      "{'text': 'RT @UNIraq: UNAMI welcomes #Iraq Gov. ‘Human Rights National Action Plan’ launched today by Minister of Justice. Strong &amp; coherent action o…'}\n",
      "19\n",
      "UNHumanRights\n",
      "{'text': '#RecoverBetter: Human rights analysis &amp; policy for a better future\\n \\nUN Human Rights Chief @mbachelet calls for strong efforts to embed long-term thinking in national &amp; intl governance: https://t.co/L1yPCWW5Cy  @EU_Commission https://t.co/Qbuf2ar7mk'}\n",
      "20\n",
      "UNHumanRights\n",
      "{'text': 'Shift #COVID19 recovery efforts now to stop setbacks in gender equality. \\n\\nThis is key to build more inclusive, just and prosperous societies - Un Human Rights Chief Michelle Bachelet https://t.co/k0dc5o28o8 https://t.co/r2OBZEadAW'}\n"
     ]
    }
   ],
   "source": [
    "#Run the get_tweets.py script to catch the latest tweets\n",
    "!python get_tweets.py "
   ]
  },
  {
   "cell_type": "code",
   "execution_count": null,
   "id": "93283e1f-0fce-4ccc-994b-d2d380b1462c",
   "metadata": {},
   "outputs": [],
   "source": []
  },
  {
   "cell_type": "markdown",
   "id": "3b6541d1-54fb-4448-a5a6-d5e815aa4dda",
   "metadata": {},
   "source": [
    "## Sentiment Analysis"
   ]
  },
  {
   "cell_type": "code",
   "execution_count": 129,
   "id": "22815005-6195-4876-8aa4-5be1bd62c2dc",
   "metadata": {},
   "outputs": [
    {
     "name": "stdout",
     "output_type": "stream",
     "text": [
      "Requirement already satisfied: vaderSentiment in /opt/anaconda3/lib/python3.8/site-packages (3.3.2)\n",
      "Requirement already satisfied: requests in /opt/anaconda3/lib/python3.8/site-packages (from vaderSentiment) (2.25.1)\n",
      "Requirement already satisfied: certifi>=2017.4.17 in /opt/anaconda3/lib/python3.8/site-packages (from requests->vaderSentiment) (2021.5.30)\n",
      "Requirement already satisfied: idna<3,>=2.5 in /opt/anaconda3/lib/python3.8/site-packages (from requests->vaderSentiment) (2.10)\n",
      "Requirement already satisfied: urllib3<1.27,>=1.21.1 in /opt/anaconda3/lib/python3.8/site-packages (from requests->vaderSentiment) (1.26.4)\n",
      "Requirement already satisfied: chardet<5,>=3.0.2 in /opt/anaconda3/lib/python3.8/site-packages (from requests->vaderSentiment) (4.0.0)\n"
     ]
    }
   ],
   "source": [
    "import glob\n",
    "import re\n",
    "import csv\n",
    "import json\n",
    "!pip install vaderSentiment\n",
    "from vaderSentiment.vaderSentiment import SentimentIntensityAnalyzer"
   ]
  },
  {
   "cell_type": "code",
   "execution_count": 109,
   "id": "5eff0723-a000-4462-b21c-0848031fa38d",
   "metadata": {},
   "outputs": [
    {
     "name": "stdout",
     "output_type": "stream",
     "text": [
      "\u001b[1m\u001b[34mCNBC\u001b[m\u001b[m          \u001b[1m\u001b[34mUNHumanRights\u001b[m\u001b[m \u001b[1m\u001b[34m__pycache__\u001b[m\u001b[m   get_tweets.py\n",
      "\u001b[1m\u001b[34mGreenpeace\u001b[m\u001b[m    \u001b[1m\u001b[34mWHO\u001b[m\u001b[m           config.py\n"
     ]
    }
   ],
   "source": [
    "!ls"
   ]
  },
  {
   "cell_type": "code",
   "execution_count": 179,
   "id": "6abf13e0-e9ba-434d-9391-c475392bcfa6",
   "metadata": {},
   "outputs": [
    {
     "data": {
      "text/plain": [
       "20"
      ]
     },
     "execution_count": 179,
     "metadata": {},
     "output_type": "execute_result"
    }
   ],
   "source": [
    "tweets_WHO = glob.glob('WHO/*.txt')\n",
    "tweets_GP = glob.glob('Greenpeace/*.txt')\n",
    "len(tweets_GP)\n",
    "tweets_UN = glob.glob('UNHumanRights/*.txt')\n",
    "len(tweets_UN)\n",
    "tweets_CNBC = glob.glob('CNBC/*.txt')\n",
    "len(tweets_CNBC)\n",
    "len(tweets_WHO)"
   ]
  },
  {
   "cell_type": "markdown",
   "id": "ad1c4e80-78c7-4234-97f8-1936edb3d3de",
   "metadata": {},
   "source": [
    "### VaderSentiment Analyzer"
   ]
  },
  {
   "cell_type": "markdown",
   "id": "4fc0ba78-2689-4277-8b4d-0914a7412487",
   "metadata": {},
   "source": [
    "#### READ ABOUT THE LIBRARY --> https://github.com/cjhutto/vaderSentiment#code-examples"
   ]
  },
  {
   "cell_type": "code",
   "execution_count": null,
   "id": "ef54d741-08db-4ec5-b07e-21d87c2cbc2a",
   "metadata": {},
   "outputs": [],
   "source": [
    "with open('v.csv', 'w') as csvfile:\n",
    "    cwriter = csv.writer(csvfile, delimiter=' ', quotechar='|', quoting=csv.QUOTE_MINIMAL)\n",
    "\n",
    "    for w, c in p.items():\n",
    "        cwriter.writerow(w + c)"
   ]
  },
  {
   "cell_type": "code",
   "execution_count": 157,
   "id": "fc0a5995-2101-42b0-9b94-c1a7394ef86f",
   "metadata": {},
   "outputs": [
    {
     "data": {
      "text/plain": [
       "'{\"neg\": 0.193, \"neu\": 0.645, \"pos\": 0.162, \"compound\": -0.4019}'"
      ]
     },
     "execution_count": 157,
     "metadata": {},
     "output_type": "execute_result"
    }
   ],
   "source": [
    "vs"
   ]
  },
  {
   "cell_type": "markdown",
   "id": "de68a7e7-6770-4aa5-a4d4-b68e87b3f5d3",
   "metadata": {},
   "source": [
    "##### WHO"
   ]
  },
  {
   "cell_type": "code",
   "execution_count": 236,
   "id": "e305f3ed-dc22-41a3-868c-fe52efece215",
   "metadata": {
    "tags": []
   },
   "outputs": [
    {
     "data": {
      "text/plain": [
       "0.14773500000000006"
      ]
     },
     "execution_count": 236,
     "metadata": {},
     "output_type": "execute_result"
    }
   ],
   "source": [
    "#THIS WORKS\n",
    "# open and write into a new csv file\n",
    "with open('WHO.csv', mode='w') as csvFile:\n",
    "    fieldnames = ['File_Name', 'Tweet', 'All_Scores', 'Compound_Score']\n",
    "    writer = csv.DictWriter(csvFile, fieldnames = fieldnames)\n",
    "    writer.writeheader()\n",
    "    \n",
    "    #Sentiments for each tweet\n",
    "    analyzer = SentimentIntensityAnalyzer()\n",
    "    pred_WHO = []\n",
    "    for t in tweets_WHO:                           #tweets_* is a list of all the text files in the WHO folder (=tweets)\n",
    "        f = open(t, mode='r')\n",
    "        result = f.read()                          #change to string\n",
    "        f.close()\n",
    "        vs = analyzer.polarity_scores(result)      #vs is dictionary --> get single values\n",
    "        comp_score = list(vs.values())[3]          #parsee the third value of dictionary as composite score\n",
    "      \n",
    "        \n",
    "        pred_WHO.append(str(vs))\n",
    "        #print(t)\n",
    "        #print(result)\n",
    "        #print(str(vs))\n",
    "        #print(comp_score)\n",
    "        \n",
    "        #print into CSV file\n",
    "        writer.writerow({'File_Name': t, 'Tweet': result, 'All_Scores': str(vs), 'Compound_Score': comp_score})\n",
    "\n",
    "csvFile.close() \n",
    "\n",
    "#open the csv as a dataframe\n",
    "WHO = pd.read_csv('WHO.csv')\n",
    "WHO.Compound_Score.mean()"
   ]
  },
  {
   "cell_type": "code",
   "execution_count": 242,
   "id": "d72630db-48af-490f-b80b-845cc3408100",
   "metadata": {},
   "outputs": [
    {
     "name": "stdout",
     "output_type": "stream",
     "text": [
      "WHO/WHO_12.txt\n",
      "{\"text\": \"No one should be harmed in health care.\\nYet, every minute, 5 patients die because of unsafe care.\\n\\nThe \\ud83c\\udd95 Global Patient Safety Action Plan 2021-2030 provides strategic direction for eliminating avoidable harm in health care &amp; improving #PatientSafety\\n \\n\\ud83d\\udc49 https://t.co/RvfAW4De4Q https://t.co/vVJBQCbInP\"}\n",
      "{'neg': 0.193, 'neu': 0.645, 'pos': 0.162, 'compound': -0.4019}\n",
      "-0.4019\n"
     ]
    }
   ],
   "source": [
    "print(t)\n",
    "print(result)\n",
    "print(str(vs))\n",
    "print(comp_score)"
   ]
  },
  {
   "cell_type": "code",
   "execution_count": null,
   "id": "950be8bc-0146-4eb4-95d0-82e0c59d90cf",
   "metadata": {},
   "outputs": [],
   "source": []
  },
  {
   "cell_type": "markdown",
   "id": "117097e7-f62a-4e3e-b99c-8abe0a6d49ce",
   "metadata": {},
   "source": [
    "##### CNBC"
   ]
  },
  {
   "cell_type": "code",
   "execution_count": 243,
   "id": "4b4a86ca-6057-4111-b325-be7226a4bad5",
   "metadata": {},
   "outputs": [
    {
     "data": {
      "text/plain": [
       "-0.02028999999999998"
      ]
     },
     "execution_count": 243,
     "metadata": {},
     "output_type": "execute_result"
    }
   ],
   "source": [
    "#THIS WORKS\n",
    "# open and write into a new csv file\n",
    "with open('CNBC.csv', mode='w') as csvFile:\n",
    "    fieldnames = ['File_Name', 'Tweet', 'All_Scores', 'Compound_Score']\n",
    "    writer = csv.DictWriter(csvFile, fieldnames = fieldnames)\n",
    "    writer.writeheader()\n",
    "    \n",
    "    #Sentiments for each tweet\n",
    "    analyzer = SentimentIntensityAnalyzer()\n",
    "    pred_CNBC = []\n",
    "    for t in tweets_CNBC:                           #tweets_* is a list of all the text files in the WHO folder (=tweets)\n",
    "        f = open(t, mode='r')\n",
    "        result = f.read()                          #change to string\n",
    "        f.close()\n",
    "        vs = analyzer.polarity_scores(result)      #vs is dictionary --> get single values\n",
    "        comp_score = list(vs.values())[3]          #parsee the third value of dictionary as composite score\n",
    "      \n",
    "        \n",
    "        pred_CNBC.append(str(vs))\n",
    "\n",
    "        #print into CSV file\n",
    "        writer.writerow({'File_Name': t, 'Tweet': result, 'All_Scores': str(vs), 'Compound_Score': comp_score})\n",
    "\n",
    "csvFile.close() \n",
    "#open the csv as a dataframe\n",
    "CNBC = pd.read_csv('CNBC.csv')\n",
    "CNBC.Compound_Score.mean()"
   ]
  },
  {
   "cell_type": "code",
   "execution_count": 244,
   "id": "3522f461-3d4b-4d3b-b5d0-c631c9614b1d",
   "metadata": {},
   "outputs": [
    {
     "name": "stdout",
     "output_type": "stream",
     "text": [
      "CNBC/CNBC_15.txt\n",
      "{\"text\": \"\\u201cWe are seeing more companies delaying their return to work plans and adjusting those plans as they focus on the health and safety of their employees, of customers as well as its suppliers,\\\" @ShelArchambeau said on @SquawkCNBC. https://t.co/5SyShTSOqT https://t.co/p0FS43ZA6Q\"}\n",
      "{'neg': 0.0, 'neu': 0.886, 'pos': 0.114, 'compound': 0.5994}\n",
      "0.5994\n"
     ]
    }
   ],
   "source": [
    "print(t)\n",
    "print(result)\n",
    "print(str(vs))\n",
    "print(comp_score)"
   ]
  },
  {
   "cell_type": "markdown",
   "id": "d9c53220-8526-41d7-90c8-90431d069387",
   "metadata": {},
   "source": [
    "##### UN Human Rights"
   ]
  },
  {
   "cell_type": "code",
   "execution_count": 245,
   "id": "b03e4346-c65d-46fe-907d-c037a60ef4c2",
   "metadata": {},
   "outputs": [
    {
     "data": {
      "text/plain": [
       "-0.06935"
      ]
     },
     "execution_count": 245,
     "metadata": {},
     "output_type": "execute_result"
    }
   ],
   "source": [
    "#THIS WORKS\n",
    "# open and write into a new csv file\n",
    "with open('UNHumanRights.csv', mode='w') as csvFile:\n",
    "    fieldnames = ['File_Name', 'Tweet', 'All_Scores', 'Compound_Score']\n",
    "    writer = csv.DictWriter(csvFile, fieldnames = fieldnames)\n",
    "    writer.writeheader()\n",
    "    \n",
    "    #Sentiments for each tweet\n",
    "    analyzer = SentimentIntensityAnalyzer()\n",
    "    pred_UNHumanRights = []\n",
    "    for t in tweets_UN:                           #tweets_* is a list of all the text files in the WHO folder (=tweets)\n",
    "        f = open(t, mode='r')\n",
    "        result = f.read()                          #change to string\n",
    "        f.close()\n",
    "        vs = analyzer.polarity_scores(result)      #vs is dictionary --> get single values\n",
    "        comp_score = list(vs.values())[3]          #parsee the third value of dictionary as composite score\n",
    "      \n",
    "        \n",
    "        pred_UNHumanRights.append(str(vs))\n",
    "\n",
    "        #print into CSV file\n",
    "        writer.writerow({'File_Name': t, 'Tweet': result, 'All_Scores': str(vs), 'Compound_Score': comp_score})\n",
    "\n",
    "csvFile.close() \n",
    "#open the csv as a dataframe\n",
    "UNHumanRights = pd.read_csv('UNHumanRights.csv')\n",
    "UNHumanRights.Compound_Score.mean()"
   ]
  },
  {
   "cell_type": "code",
   "execution_count": 246,
   "id": "9343560b-e505-4aca-8594-cd0aa677aaed",
   "metadata": {},
   "outputs": [
    {
     "name": "stdout",
     "output_type": "stream",
     "text": [
      "UNHumanRights/UNHumanRights_4.txt\n",
      "{\"text\": \"\\u201cWe need to stop denying racism and start dismantling it\\u201d.  Learn about our event, marking the midterm review of  Intl Decade for People of #AfricanDescent. \\\"See Us, Hear Us, Count Us In\\\" features  artists, musicians, young voices,  experts:  https://t.co/NZiC7iWowe https://t.co/DoZ29VB7q8\"}\n",
      "{'neg': 0.186, 'neu': 0.814, 'pos': 0.0, 'compound': -0.8271}\n",
      "-0.8271\n"
     ]
    }
   ],
   "source": [
    "print(t)\n",
    "print(result)\n",
    "print(str(vs))\n",
    "print(comp_score)"
   ]
  },
  {
   "cell_type": "markdown",
   "id": "500ece01-97bd-4c11-8419-aad44643326d",
   "metadata": {},
   "source": [
    "##### Greenpeace"
   ]
  },
  {
   "cell_type": "code",
   "execution_count": 247,
   "id": "cdea2907-bd9c-4a26-9dd9-d2ea47eaf191",
   "metadata": {},
   "outputs": [
    {
     "data": {
      "text/plain": [
       "-0.13387500000000002"
      ]
     },
     "execution_count": 247,
     "metadata": {},
     "output_type": "execute_result"
    }
   ],
   "source": [
    "#THIS WORKS\n",
    "# open and write into a new csv file\n",
    "with open('Greenpeace.csv', mode='w') as csvFile:\n",
    "    fieldnames = ['File_Name', 'Tweet', 'All_Scores', 'Compound_Score']\n",
    "    writer = csv.DictWriter(csvFile, fieldnames = fieldnames)\n",
    "    writer.writeheader()\n",
    "    \n",
    "    #Sentiments for each tweet\n",
    "    analyzer = SentimentIntensityAnalyzer()\n",
    "    pred_Greenpeace = []\n",
    "    for t in tweets_Greenpeace:                    #tweets_* is a list of all the text files in the WHO folder (=tweets)\n",
    "        f = open(t, mode='r')\n",
    "        result = f.read()                          #change to string\n",
    "        f.close()\n",
    "        vs = analyzer.polarity_scores(result)      #vs is dictionary \n",
    "        comp_score = list(vs.values())[3]          #parsee the fourth value of dictionary as composite score\n",
    "      \n",
    "        pred_Greenpeace.append(str(vs))\n",
    "\n",
    "        #print into CSV file\n",
    "        writer.writerow({'File_Name': t, 'Tweet': result, 'All_Scores': str(vs), 'Compound_Score': comp_score})\n",
    "\n",
    "csvFile.close() \n",
    "#open the csv as a dataframe\n",
    "Greenpeace = pd.read_csv('Greenpeace.csv')\n",
    "Greenpeace.Compound_Score.mean()"
   ]
  },
  {
   "cell_type": "code",
   "execution_count": 248,
   "id": "763af22a-78d1-4220-93a0-929b96a8216b",
   "metadata": {},
   "outputs": [
    {
     "name": "stdout",
     "output_type": "stream",
     "text": [
      "Greenpeace/Greenpeace_13.txt\n",
      "{\"text\": \"RT @FightInequality: \\ud83d\\udd539 Days to go!!!\\n\\nHere's is a lineup of the plenary speakers and artists performing at the #FestivalToFightInequality2\\u2026\"}\n",
      "{'neg': 0.0, 'neu': 1.0, 'pos': 0.0, 'compound': 0.0}\n",
      "0.0\n"
     ]
    }
   ],
   "source": [
    "print(t)\n",
    "print(result)\n",
    "print(str(vs))\n",
    "print(comp_score)"
   ]
  },
  {
   "cell_type": "code",
   "execution_count": 217,
   "id": "7dd9d025-8551-4f64-95b0-4cf0b475da8e",
   "metadata": {},
   "outputs": [],
   "source": []
  },
  {
   "cell_type": "code",
   "execution_count": 237,
   "id": "bcf673b2-d7c3-46e6-aa33-fc8f28eb9fd9",
   "metadata": {},
   "outputs": [
    {
     "data": {
      "text/html": [
       "<div>\n",
       "<style scoped>\n",
       "    .dataframe tbody tr th:only-of-type {\n",
       "        vertical-align: middle;\n",
       "    }\n",
       "\n",
       "    .dataframe tbody tr th {\n",
       "        vertical-align: top;\n",
       "    }\n",
       "\n",
       "    .dataframe thead th {\n",
       "        text-align: right;\n",
       "    }\n",
       "</style>\n",
       "<table border=\"1\" class=\"dataframe\">\n",
       "  <thead>\n",
       "    <tr style=\"text-align: right;\">\n",
       "      <th></th>\n",
       "      <th>File_Name</th>\n",
       "      <th>Tweet</th>\n",
       "      <th>All_Scores</th>\n",
       "      <th>Compound_Score</th>\n",
       "    </tr>\n",
       "  </thead>\n",
       "  <tbody>\n",
       "    <tr>\n",
       "      <th>0</th>\n",
       "      <td>WHO/WHO_0.txt</td>\n",
       "      <td>{\"text\": \"RT @DrTedros: \\u2018First shots befo...</td>\n",
       "      <td>{'neg': 0.0, 'neu': 0.588, 'pos': 0.412, 'comp...</td>\n",
       "      <td>0.8591</td>\n",
       "    </tr>\n",
       "    <tr>\n",
       "      <th>1</th>\n",
       "      <td>WHO/WHO_1.txt</td>\n",
       "      <td>{\"text\": \"RT @DrTedros: Urgent dose sharing is...</td>\n",
       "      <td>{'neg': 0.0, 'neu': 0.764, 'pos': 0.236, 'comp...</td>\n",
       "      <td>0.7003</td>\n",
       "    </tr>\n",
       "    <tr>\n",
       "      <th>2</th>\n",
       "      <td>WHO/WHO_3.txt</td>\n",
       "      <td>{\"text\": \"Dr @Kate_L_OBrien explains what we k...</td>\n",
       "      <td>{'neg': 0.0, 'neu': 0.883, 'pos': 0.117, 'comp...</td>\n",
       "      <td>0.4767</td>\n",
       "    </tr>\n",
       "    <tr>\n",
       "      <th>3</th>\n",
       "      <td>WHO/WHO_2.txt</td>\n",
       "      <td>{\"text\": \"RT @DrTedros: The \\ud83c\\udf0d is in...</td>\n",
       "      <td>{'neg': 0.221, 'neu': 0.714, 'pos': 0.065, 'co...</td>\n",
       "      <td>-0.7003</td>\n",
       "    </tr>\n",
       "    <tr>\n",
       "      <th>4</th>\n",
       "      <td>WHO/WHO_19.txt</td>\n",
       "      <td>{\"text\": \"Hospitals can support mothers to bre...</td>\n",
       "      <td>{'neg': 0.0, 'neu': 0.803, 'pos': 0.197, 'comp...</td>\n",
       "      <td>0.7650</td>\n",
       "    </tr>\n",
       "  </tbody>\n",
       "</table>\n",
       "</div>"
      ],
      "text/plain": [
       "        File_Name                                              Tweet  \\\n",
       "0   WHO/WHO_0.txt  {\"text\": \"RT @DrTedros: \\u2018First shots befo...   \n",
       "1   WHO/WHO_1.txt  {\"text\": \"RT @DrTedros: Urgent dose sharing is...   \n",
       "2   WHO/WHO_3.txt  {\"text\": \"Dr @Kate_L_OBrien explains what we k...   \n",
       "3   WHO/WHO_2.txt  {\"text\": \"RT @DrTedros: The \\ud83c\\udf0d is in...   \n",
       "4  WHO/WHO_19.txt  {\"text\": \"Hospitals can support mothers to bre...   \n",
       "\n",
       "                                          All_Scores  Compound_Score  \n",
       "0  {'neg': 0.0, 'neu': 0.588, 'pos': 0.412, 'comp...          0.8591  \n",
       "1  {'neg': 0.0, 'neu': 0.764, 'pos': 0.236, 'comp...          0.7003  \n",
       "2  {'neg': 0.0, 'neu': 0.883, 'pos': 0.117, 'comp...          0.4767  \n",
       "3  {'neg': 0.221, 'neu': 0.714, 'pos': 0.065, 'co...         -0.7003  \n",
       "4  {'neg': 0.0, 'neu': 0.803, 'pos': 0.197, 'comp...          0.7650  "
      ]
     },
     "execution_count": 237,
     "metadata": {},
     "output_type": "execute_result"
    }
   ],
   "source": [
    "WHO.head()"
   ]
  },
  {
   "cell_type": "code",
   "execution_count": 241,
   "id": "1d6300d8-2375-49e7-b83d-e000a9fbf30f",
   "metadata": {},
   "outputs": [
    {
     "data": {
      "text/plain": [
       "0.14773500000000006"
      ]
     },
     "execution_count": 241,
     "metadata": {},
     "output_type": "execute_result"
    }
   ],
   "source": [
    "WHO.Compound_Score.mean()"
   ]
  },
  {
   "cell_type": "code",
   "execution_count": null,
   "id": "471aefc9-67e4-4f78-ace9-085317abdd61",
   "metadata": {},
   "outputs": [],
   "source": []
  },
  {
   "cell_type": "code",
   "execution_count": null,
   "id": "dd3f1b11-3532-46dd-b859-3326324af4fd",
   "metadata": {},
   "outputs": [],
   "source": []
  },
  {
   "cell_type": "code",
   "execution_count": null,
   "id": "ec475581-2ce7-4f18-99d9-6783e1323b2b",
   "metadata": {},
   "outputs": [],
   "source": []
  },
  {
   "cell_type": "code",
   "execution_count": null,
   "id": "cdc1f270-70b0-4f72-9007-8ef51458d79d",
   "metadata": {},
   "outputs": [],
   "source": []
  },
  {
   "cell_type": "code",
   "execution_count": null,
   "id": "510cce6b-51e8-4e56-81f8-79db099ffe20",
   "metadata": {},
   "outputs": [],
   "source": []
  },
  {
   "cell_type": "code",
   "execution_count": null,
   "id": "ce4452e0-188f-429d-921a-55f306db3ae5",
   "metadata": {},
   "outputs": [],
   "source": []
  },
  {
   "cell_type": "code",
   "execution_count": null,
   "id": "ebfb9ef8-657f-4221-8260-a4825e5fe252",
   "metadata": {},
   "outputs": [],
   "source": []
  },
  {
   "cell_type": "code",
   "execution_count": null,
   "id": "4c46fc91-48d4-416d-88ec-c00ecccfc189",
   "metadata": {},
   "outputs": [],
   "source": []
  },
  {
   "cell_type": "code",
   "execution_count": null,
   "id": "40980ae7-0721-4a68-9156-8f8e1a677b86",
   "metadata": {},
   "outputs": [],
   "source": []
  },
  {
   "cell_type": "code",
   "execution_count": null,
   "id": "dc800c20-c445-4ce5-a4ff-e06bd2eade0d",
   "metadata": {},
   "outputs": [],
   "source": []
  },
  {
   "cell_type": "code",
   "execution_count": null,
   "id": "9f1af3c4-517b-42c5-b6ef-33159fc5ff3f",
   "metadata": {},
   "outputs": [],
   "source": []
  },
  {
   "cell_type": "code",
   "execution_count": null,
   "id": "fdec5d9c-619c-4553-ad53-2a30856c0ef6",
   "metadata": {},
   "outputs": [],
   "source": []
  },
  {
   "cell_type": "code",
   "execution_count": null,
   "id": "47a2136c-8372-42c8-8cd1-f6a28bca185b",
   "metadata": {},
   "outputs": [],
   "source": []
  },
  {
   "cell_type": "code",
   "execution_count": null,
   "id": "674bc911-5748-4e72-93fc-7f87c2a3bc76",
   "metadata": {},
   "outputs": [],
   "source": []
  },
  {
   "cell_type": "code",
   "execution_count": null,
   "id": "0ecb6b51-ecca-4a35-98e6-bbefddf9a167",
   "metadata": {},
   "outputs": [],
   "source": []
  },
  {
   "cell_type": "code",
   "execution_count": 249,
   "id": "477b9569-e30f-4c91-8c59-d7573ad22c56",
   "metadata": {},
   "outputs": [
    {
     "data": {
      "text/html": [
       "<div>\n",
       "<style scoped>\n",
       "    .dataframe tbody tr th:only-of-type {\n",
       "        vertical-align: middle;\n",
       "    }\n",
       "\n",
       "    .dataframe tbody tr th {\n",
       "        vertical-align: top;\n",
       "    }\n",
       "\n",
       "    .dataframe thead th {\n",
       "        text-align: right;\n",
       "    }\n",
       "</style>\n",
       "<table border=\"1\" class=\"dataframe\">\n",
       "  <thead>\n",
       "    <tr style=\"text-align: right;\">\n",
       "      <th></th>\n",
       "      <th>File_Name</th>\n",
       "      <th>Tweet</th>\n",
       "      <th>All_Scores</th>\n",
       "      <th>Compound_Score</th>\n",
       "    </tr>\n",
       "  </thead>\n",
       "  <tbody>\n",
       "    <tr>\n",
       "      <th>0</th>\n",
       "      <td>UNHumanRights/UNHumanRights_13.txt</td>\n",
       "      <td>{\"text\": \"RT @ohchr_sa: As we commemorate 20 y...</td>\n",
       "      <td>{'neg': 0.0, 'neu': 1.0, 'pos': 0.0, 'compound...</td>\n",
       "      <td>0.0000</td>\n",
       "    </tr>\n",
       "    <tr>\n",
       "      <th>1</th>\n",
       "      <td>UNHumanRights/UNHumanRights_9.txt</td>\n",
       "      <td>{\"text\": \"RT @UNAMAnews: The United Nations in...</td>\n",
       "      <td>{'neg': 0.323, 'neu': 0.593, 'pos': 0.083, 'co...</td>\n",
       "      <td>-0.8442</td>\n",
       "    </tr>\n",
       "    <tr>\n",
       "      <th>2</th>\n",
       "      <td>UNHumanRights/UNHumanRights_8.txt</td>\n",
       "      <td>{\"text\": \"On 2 August we annually remember #Ro...</td>\n",
       "      <td>{'neg': 0.369, 'neu': 0.595, 'pos': 0.036, 'co...</td>\n",
       "      <td>-0.9643</td>\n",
       "    </tr>\n",
       "    <tr>\n",
       "      <th>3</th>\n",
       "      <td>UNHumanRights/UNHumanRights_12.txt</td>\n",
       "      <td>{\"text\": \"RT @ohchr_sa: Show your support for ...</td>\n",
       "      <td>{'neg': 0.0, 'neu': 0.642, 'pos': 0.358, 'comp...</td>\n",
       "      <td>0.8585</td>\n",
       "    </tr>\n",
       "    <tr>\n",
       "      <th>4</th>\n",
       "      <td>UNHumanRights/UNHumanRights_10.txt</td>\n",
       "      <td>{\"text\": \"At an event  to mark the 20th annive...</td>\n",
       "      <td>{'neg': 0.143, 'neu': 0.857, 'pos': 0.0, 'comp...</td>\n",
       "      <td>-0.7184</td>\n",
       "    </tr>\n",
       "    <tr>\n",
       "      <th>5</th>\n",
       "      <td>UNHumanRights/UNHumanRights_11.txt</td>\n",
       "      <td>{\"text\": \"Millions of people have been thrown ...</td>\n",
       "      <td>{'neg': 0.152, 'neu': 0.75, 'pos': 0.099, 'com...</td>\n",
       "      <td>-0.5709</td>\n",
       "    </tr>\n",
       "    <tr>\n",
       "      <th>6</th>\n",
       "      <td>UNHumanRights/UNHumanRights_15.txt</td>\n",
       "      <td>{\"text\": \"RT @ohchr_sa: Join us at an EVENT to...</td>\n",
       "      <td>{'neg': 0.0, 'neu': 0.909, 'pos': 0.091, 'comp...</td>\n",
       "      <td>0.2960</td>\n",
       "    </tr>\n",
       "    <tr>\n",
       "      <th>7</th>\n",
       "      <td>UNHumanRights/UNHumanRights_14.txt</td>\n",
       "      <td>{\"text\": \"RT @ohchr_sa: As we renew our commit...</td>\n",
       "      <td>{'neg': 0.0, 'neu': 0.809, 'pos': 0.191, 'comp...</td>\n",
       "      <td>0.7096</td>\n",
       "    </tr>\n",
       "    <tr>\n",
       "      <th>8</th>\n",
       "      <td>UNHumanRights/UNHumanRights_16.txt</td>\n",
       "      <td>{\"text\": \"RT @UNIraq: Remarks by Ms. Danielle ...</td>\n",
       "      <td>{'neg': 0.0, 'neu': 1.0, 'pos': 0.0, 'compound...</td>\n",
       "      <td>0.0000</td>\n",
       "    </tr>\n",
       "    <tr>\n",
       "      <th>9</th>\n",
       "      <td>UNHumanRights/UNHumanRights_17.txt</td>\n",
       "      <td>{\"text\": \"RT @UNIraq: UNAMI welcomes #Iraq Gov...</td>\n",
       "      <td>{'neg': 0.0, 'neu': 0.635, 'pos': 0.365, 'comp...</td>\n",
       "      <td>0.8720</td>\n",
       "    </tr>\n",
       "    <tr>\n",
       "      <th>10</th>\n",
       "      <td>UNHumanRights/UNHumanRights_0.txt</td>\n",
       "      <td>{\"text\": \"RT @OHCHR_MENA: #\\u0633\\u0648\\u0631\\...</td>\n",
       "      <td>{'neg': 0.0, 'neu': 1.0, 'pos': 0.0, 'compound...</td>\n",
       "      <td>0.0000</td>\n",
       "    </tr>\n",
       "    <tr>\n",
       "      <th>11</th>\n",
       "      <td>UNHumanRights/UNHumanRights_1.txt</td>\n",
       "      <td>{\"text\": \"\\ud83c\\uddf8\\ud83c\\uddfe #Syria: UN ...</td>\n",
       "      <td>{'neg': 0.1, 'neu': 0.742, 'pos': 0.159, 'comp...</td>\n",
       "      <td>0.4215</td>\n",
       "    </tr>\n",
       "    <tr>\n",
       "      <th>12</th>\n",
       "      <td>UNHumanRights/UNHumanRights_19.txt</td>\n",
       "      <td>{\"text\": \"Shift #COVID19 recovery efforts now ...</td>\n",
       "      <td>{'neg': 0.062, 'neu': 0.85, 'pos': 0.088, 'com...</td>\n",
       "      <td>0.2263</td>\n",
       "    </tr>\n",
       "    <tr>\n",
       "      <th>13</th>\n",
       "      <td>UNHumanRights/UNHumanRights_3.txt</td>\n",
       "      <td>{\"text\": \"\\ud83c\\udde8\\ud83c\\uddeb #CentralAfr...</td>\n",
       "      <td>{'neg': 0.346, 'neu': 0.654, 'pos': 0.0, 'comp...</td>\n",
       "      <td>-0.9509</td>\n",
       "    </tr>\n",
       "    <tr>\n",
       "      <th>14</th>\n",
       "      <td>UNHumanRights/UNHumanRights_2.txt</td>\n",
       "      <td>{\"text\": \"RT @UN: #UNGA establishes new platfo...</td>\n",
       "      <td>{'neg': 0.218, 'neu': 0.695, 'pos': 0.088, 'co...</td>\n",
       "      <td>-0.6486</td>\n",
       "    </tr>\n",
       "    <tr>\n",
       "      <th>15</th>\n",
       "      <td>UNHumanRights/UNHumanRights_18.txt</td>\n",
       "      <td>{\"text\": \"#RecoverBetter: Human rights analysi...</td>\n",
       "      <td>{'neg': 0.0, 'neu': 0.829, 'pos': 0.171, 'comp...</td>\n",
       "      <td>0.7351</td>\n",
       "    </tr>\n",
       "    <tr>\n",
       "      <th>16</th>\n",
       "      <td>UNHumanRights/UNHumanRights_6.txt</td>\n",
       "      <td>{\"text\": \"#Beirut port explosion anniversary: ...</td>\n",
       "      <td>{'neg': 0.067, 'neu': 0.646, 'pos': 0.287, 'co...</td>\n",
       "      <td>0.8360</td>\n",
       "    </tr>\n",
       "    <tr>\n",
       "      <th>17</th>\n",
       "      <td>UNHumanRights/UNHumanRights_7.txt</td>\n",
       "      <td>{\"text\": \"#Iraq: Implementation of laws are ke...</td>\n",
       "      <td>{'neg': 0.246, 'neu': 0.619, 'pos': 0.136, 'co...</td>\n",
       "      <td>-0.8176</td>\n",
       "    </tr>\n",
       "    <tr>\n",
       "      <th>18</th>\n",
       "      <td>UNHumanRights/UNHumanRights_5.txt</td>\n",
       "      <td>{\"text\": \"RT @OHCHR_MENA: #\\u0644\\u0628\\u0646\\...</td>\n",
       "      <td>{'neg': 0.0, 'neu': 1.0, 'pos': 0.0, 'compound...</td>\n",
       "      <td>0.0000</td>\n",
       "    </tr>\n",
       "    <tr>\n",
       "      <th>19</th>\n",
       "      <td>UNHumanRights/UNHumanRights_4.txt</td>\n",
       "      <td>{\"text\": \"\\u201cWe need to stop denying racism...</td>\n",
       "      <td>{'neg': 0.186, 'neu': 0.814, 'pos': 0.0, 'comp...</td>\n",
       "      <td>-0.8271</td>\n",
       "    </tr>\n",
       "  </tbody>\n",
       "</table>\n",
       "</div>"
      ],
      "text/plain": [
       "                             File_Name  \\\n",
       "0   UNHumanRights/UNHumanRights_13.txt   \n",
       "1    UNHumanRights/UNHumanRights_9.txt   \n",
       "2    UNHumanRights/UNHumanRights_8.txt   \n",
       "3   UNHumanRights/UNHumanRights_12.txt   \n",
       "4   UNHumanRights/UNHumanRights_10.txt   \n",
       "5   UNHumanRights/UNHumanRights_11.txt   \n",
       "6   UNHumanRights/UNHumanRights_15.txt   \n",
       "7   UNHumanRights/UNHumanRights_14.txt   \n",
       "8   UNHumanRights/UNHumanRights_16.txt   \n",
       "9   UNHumanRights/UNHumanRights_17.txt   \n",
       "10   UNHumanRights/UNHumanRights_0.txt   \n",
       "11   UNHumanRights/UNHumanRights_1.txt   \n",
       "12  UNHumanRights/UNHumanRights_19.txt   \n",
       "13   UNHumanRights/UNHumanRights_3.txt   \n",
       "14   UNHumanRights/UNHumanRights_2.txt   \n",
       "15  UNHumanRights/UNHumanRights_18.txt   \n",
       "16   UNHumanRights/UNHumanRights_6.txt   \n",
       "17   UNHumanRights/UNHumanRights_7.txt   \n",
       "18   UNHumanRights/UNHumanRights_5.txt   \n",
       "19   UNHumanRights/UNHumanRights_4.txt   \n",
       "\n",
       "                                                Tweet  \\\n",
       "0   {\"text\": \"RT @ohchr_sa: As we commemorate 20 y...   \n",
       "1   {\"text\": \"RT @UNAMAnews: The United Nations in...   \n",
       "2   {\"text\": \"On 2 August we annually remember #Ro...   \n",
       "3   {\"text\": \"RT @ohchr_sa: Show your support for ...   \n",
       "4   {\"text\": \"At an event  to mark the 20th annive...   \n",
       "5   {\"text\": \"Millions of people have been thrown ...   \n",
       "6   {\"text\": \"RT @ohchr_sa: Join us at an EVENT to...   \n",
       "7   {\"text\": \"RT @ohchr_sa: As we renew our commit...   \n",
       "8   {\"text\": \"RT @UNIraq: Remarks by Ms. Danielle ...   \n",
       "9   {\"text\": \"RT @UNIraq: UNAMI welcomes #Iraq Gov...   \n",
       "10  {\"text\": \"RT @OHCHR_MENA: #\\u0633\\u0648\\u0631\\...   \n",
       "11  {\"text\": \"\\ud83c\\uddf8\\ud83c\\uddfe #Syria: UN ...   \n",
       "12  {\"text\": \"Shift #COVID19 recovery efforts now ...   \n",
       "13  {\"text\": \"\\ud83c\\udde8\\ud83c\\uddeb #CentralAfr...   \n",
       "14  {\"text\": \"RT @UN: #UNGA establishes new platfo...   \n",
       "15  {\"text\": \"#RecoverBetter: Human rights analysi...   \n",
       "16  {\"text\": \"#Beirut port explosion anniversary: ...   \n",
       "17  {\"text\": \"#Iraq: Implementation of laws are ke...   \n",
       "18  {\"text\": \"RT @OHCHR_MENA: #\\u0644\\u0628\\u0646\\...   \n",
       "19  {\"text\": \"\\u201cWe need to stop denying racism...   \n",
       "\n",
       "                                           All_Scores  Compound_Score  \n",
       "0   {'neg': 0.0, 'neu': 1.0, 'pos': 0.0, 'compound...          0.0000  \n",
       "1   {'neg': 0.323, 'neu': 0.593, 'pos': 0.083, 'co...         -0.8442  \n",
       "2   {'neg': 0.369, 'neu': 0.595, 'pos': 0.036, 'co...         -0.9643  \n",
       "3   {'neg': 0.0, 'neu': 0.642, 'pos': 0.358, 'comp...          0.8585  \n",
       "4   {'neg': 0.143, 'neu': 0.857, 'pos': 0.0, 'comp...         -0.7184  \n",
       "5   {'neg': 0.152, 'neu': 0.75, 'pos': 0.099, 'com...         -0.5709  \n",
       "6   {'neg': 0.0, 'neu': 0.909, 'pos': 0.091, 'comp...          0.2960  \n",
       "7   {'neg': 0.0, 'neu': 0.809, 'pos': 0.191, 'comp...          0.7096  \n",
       "8   {'neg': 0.0, 'neu': 1.0, 'pos': 0.0, 'compound...          0.0000  \n",
       "9   {'neg': 0.0, 'neu': 0.635, 'pos': 0.365, 'comp...          0.8720  \n",
       "10  {'neg': 0.0, 'neu': 1.0, 'pos': 0.0, 'compound...          0.0000  \n",
       "11  {'neg': 0.1, 'neu': 0.742, 'pos': 0.159, 'comp...          0.4215  \n",
       "12  {'neg': 0.062, 'neu': 0.85, 'pos': 0.088, 'com...          0.2263  \n",
       "13  {'neg': 0.346, 'neu': 0.654, 'pos': 0.0, 'comp...         -0.9509  \n",
       "14  {'neg': 0.218, 'neu': 0.695, 'pos': 0.088, 'co...         -0.6486  \n",
       "15  {'neg': 0.0, 'neu': 0.829, 'pos': 0.171, 'comp...          0.7351  \n",
       "16  {'neg': 0.067, 'neu': 0.646, 'pos': 0.287, 'co...          0.8360  \n",
       "17  {'neg': 0.246, 'neu': 0.619, 'pos': 0.136, 'co...         -0.8176  \n",
       "18  {'neg': 0.0, 'neu': 1.0, 'pos': 0.0, 'compound...          0.0000  \n",
       "19  {'neg': 0.186, 'neu': 0.814, 'pos': 0.0, 'comp...         -0.8271  "
      ]
     },
     "execution_count": 249,
     "metadata": {},
     "output_type": "execute_result"
    }
   ],
   "source": [
    "UNHumanRights"
   ]
  },
  {
   "cell_type": "code",
   "execution_count": null,
   "id": "25e91730-e3f6-469f-a5e8-d27973cbb151",
   "metadata": {},
   "outputs": [],
   "source": []
  },
  {
   "cell_type": "code",
   "execution_count": null,
   "id": "d79ea38d-74c2-466f-9de5-9a3d96809c6b",
   "metadata": {},
   "outputs": [],
   "source": []
  },
  {
   "cell_type": "code",
   "execution_count": null,
   "id": "83968265-e88e-498e-9430-3e89c47a7a3a",
   "metadata": {},
   "outputs": [],
   "source": []
  },
  {
   "cell_type": "code",
   "execution_count": null,
   "id": "83693f34-f4ac-43cc-9949-2c346786ff52",
   "metadata": {},
   "outputs": [],
   "source": []
  },
  {
   "cell_type": "code",
   "execution_count": null,
   "id": "7a46823f-679c-4bbb-8c5e-2e866300b81a",
   "metadata": {},
   "outputs": [],
   "source": []
  },
  {
   "cell_type": "code",
   "execution_count": null,
   "id": "07742eb0-2068-4823-bec2-e19fabaf6e35",
   "metadata": {},
   "outputs": [],
   "source": []
  },
  {
   "cell_type": "code",
   "execution_count": null,
   "id": "ee683ede-3f31-4616-b698-2c6cebee1ae1",
   "metadata": {},
   "outputs": [],
   "source": []
  },
  {
   "cell_type": "code",
   "execution_count": null,
   "id": "cbda699e-f218-4d98-bc38-66e8104d694b",
   "metadata": {},
   "outputs": [],
   "source": []
  },
  {
   "cell_type": "code",
   "execution_count": null,
   "id": "94f56a7b-ab15-4eda-b432-6c0fc360ba7a",
   "metadata": {},
   "outputs": [],
   "source": []
  },
  {
   "cell_type": "code",
   "execution_count": null,
   "id": "bfd145a3-faec-40c1-b3db-7bb073f00267",
   "metadata": {},
   "outputs": [],
   "source": []
  },
  {
   "cell_type": "code",
   "execution_count": null,
   "id": "255a887e-31cf-4b08-8440-f0a1dd4f64ce",
   "metadata": {},
   "outputs": [],
   "source": []
  },
  {
   "cell_type": "code",
   "execution_count": null,
   "id": "2f0db159-c8f7-4349-a02f-88552f7405f5",
   "metadata": {},
   "outputs": [],
   "source": []
  },
  {
   "cell_type": "markdown",
   "id": "76ff8f47-4345-4646-86ab-add2afb60052",
   "metadata": {},
   "source": [
    "--------------------------------------------------------"
   ]
  },
  {
   "cell_type": "markdown",
   "id": "030cb4b0-3ef1-4252-a312-6fb9edcd833d",
   "metadata": {},
   "source": [
    "## Visualizing Sentiment"
   ]
  },
  {
   "cell_type": "code",
   "execution_count": 202,
   "id": "dadde75e-981a-4ce9-a6f9-341c301cdbe9",
   "metadata": {},
   "outputs": [
    {
     "name": "stdout",
     "output_type": "stream",
     "text": [
      "Requirement already satisfied: plotly in /opt/anaconda3/lib/python3.8/site-packages (5.1.0)\n",
      "Requirement already satisfied: tenacity>=6.2.0 in /opt/anaconda3/lib/python3.8/site-packages (from plotly) (8.0.1)\n",
      "Requirement already satisfied: six in /opt/anaconda3/lib/python3.8/site-packages (from plotly) (1.15.0)\n",
      "Collecting chart_studio\n",
      "  Downloading chart_studio-1.1.0-py3-none-any.whl (64 kB)\n",
      "\u001b[K     |████████████████████████████████| 64 kB 730 kB/s eta 0:00:01\n",
      "\u001b[?25hCollecting retrying>=1.3.3\n",
      "  Downloading retrying-1.3.3.tar.gz (10 kB)\n",
      "Requirement already satisfied: six in /opt/anaconda3/lib/python3.8/site-packages (from chart_studio) (1.15.0)\n",
      "Requirement already satisfied: plotly in /opt/anaconda3/lib/python3.8/site-packages (from chart_studio) (5.1.0)\n",
      "Requirement already satisfied: requests in /opt/anaconda3/lib/python3.8/site-packages (from chart_studio) (2.25.1)\n",
      "Requirement already satisfied: tenacity>=6.2.0 in /opt/anaconda3/lib/python3.8/site-packages (from plotly->chart_studio) (8.0.1)\n",
      "Requirement already satisfied: urllib3<1.27,>=1.21.1 in /opt/anaconda3/lib/python3.8/site-packages (from requests->chart_studio) (1.26.4)\n",
      "Requirement already satisfied: chardet<5,>=3.0.2 in /opt/anaconda3/lib/python3.8/site-packages (from requests->chart_studio) (4.0.0)\n",
      "Requirement already satisfied: idna<3,>=2.5 in /opt/anaconda3/lib/python3.8/site-packages (from requests->chart_studio) (2.10)\n",
      "Requirement already satisfied: certifi>=2017.4.17 in /opt/anaconda3/lib/python3.8/site-packages (from requests->chart_studio) (2021.5.30)\n",
      "Building wheels for collected packages: retrying\n",
      "  Building wheel for retrying (setup.py) ... \u001b[?25ldone\n",
      "\u001b[?25h  Created wheel for retrying: filename=retrying-1.3.3-py3-none-any.whl size=11429 sha256=f9d2fa339fcaff5e6bfdc55331465eaef54e625484d8daa7782d5ced966e927a\n",
      "  Stored in directory: /Users/lisa/Library/Caches/pip/wheels/c4/a7/48/0a434133f6d56e878ca511c0e6c38326907c0792f67b476e56\n",
      "Successfully built retrying\n",
      "Installing collected packages: retrying, chart-studio\n",
      "Successfully installed chart-studio-1.1.0 retrying-1.3.3\n"
     ]
    }
   ],
   "source": [
    "!pip install plotly\n",
    "!pip install chart_studio"
   ]
  },
  {
   "cell_type": "code",
   "execution_count": 214,
   "id": "e6f04e3a-05ab-4eea-8a9e-0062679cf403",
   "metadata": {},
   "outputs": [],
   "source": [
    "import pandas as pd\n",
    "import numpy as np\n",
    "import matplotlib.pyplot as plt\n",
    "import plotly.graph_objects as go\n",
    "import chart_studio\n",
    "import plotly.offline as pyo\n",
    "import sklearn"
   ]
  },
  {
   "cell_type": "code",
   "execution_count": 213,
   "id": "a40b05e5-bc4c-4f63-bb6c-0285372f565f",
   "metadata": {},
   "outputs": [
    {
     "data": {
      "application/vnd.plotly.v1+json": {
       "config": {
        "plotlyServerURL": "https://plot.ly"
       },
       "data": [
        {
         "domain": {
          "x": [
           0,
           1
          ],
          "y": [
           0,
           1
          ]
         },
         "mode": "gauge+number",
         "title": {
          "text": "WHO"
         },
         "type": "indicator",
         "value": 270
        }
       ],
       "layout": {
        "autosize": true,
        "template": {
         "data": {
          "bar": [
           {
            "error_x": {
             "color": "#2a3f5f"
            },
            "error_y": {
             "color": "#2a3f5f"
            },
            "marker": {
             "line": {
              "color": "#E5ECF6",
              "width": 0.5
             },
             "pattern": {
              "fillmode": "overlay",
              "size": 10,
              "solidity": 0.2
             }
            },
            "type": "bar"
           }
          ],
          "barpolar": [
           {
            "marker": {
             "line": {
              "color": "#E5ECF6",
              "width": 0.5
             },
             "pattern": {
              "fillmode": "overlay",
              "size": 10,
              "solidity": 0.2
             }
            },
            "type": "barpolar"
           }
          ],
          "carpet": [
           {
            "aaxis": {
             "endlinecolor": "#2a3f5f",
             "gridcolor": "white",
             "linecolor": "white",
             "minorgridcolor": "white",
             "startlinecolor": "#2a3f5f"
            },
            "baxis": {
             "endlinecolor": "#2a3f5f",
             "gridcolor": "white",
             "linecolor": "white",
             "minorgridcolor": "white",
             "startlinecolor": "#2a3f5f"
            },
            "type": "carpet"
           }
          ],
          "choropleth": [
           {
            "colorbar": {
             "outlinewidth": 0,
             "ticks": ""
            },
            "type": "choropleth"
           }
          ],
          "contour": [
           {
            "colorbar": {
             "outlinewidth": 0,
             "ticks": ""
            },
            "colorscale": [
             [
              0,
              "#0d0887"
             ],
             [
              0.1111111111111111,
              "#46039f"
             ],
             [
              0.2222222222222222,
              "#7201a8"
             ],
             [
              0.3333333333333333,
              "#9c179e"
             ],
             [
              0.4444444444444444,
              "#bd3786"
             ],
             [
              0.5555555555555556,
              "#d8576b"
             ],
             [
              0.6666666666666666,
              "#ed7953"
             ],
             [
              0.7777777777777778,
              "#fb9f3a"
             ],
             [
              0.8888888888888888,
              "#fdca26"
             ],
             [
              1,
              "#f0f921"
             ]
            ],
            "type": "contour"
           }
          ],
          "contourcarpet": [
           {
            "colorbar": {
             "outlinewidth": 0,
             "ticks": ""
            },
            "type": "contourcarpet"
           }
          ],
          "heatmap": [
           {
            "colorbar": {
             "outlinewidth": 0,
             "ticks": ""
            },
            "colorscale": [
             [
              0,
              "#0d0887"
             ],
             [
              0.1111111111111111,
              "#46039f"
             ],
             [
              0.2222222222222222,
              "#7201a8"
             ],
             [
              0.3333333333333333,
              "#9c179e"
             ],
             [
              0.4444444444444444,
              "#bd3786"
             ],
             [
              0.5555555555555556,
              "#d8576b"
             ],
             [
              0.6666666666666666,
              "#ed7953"
             ],
             [
              0.7777777777777778,
              "#fb9f3a"
             ],
             [
              0.8888888888888888,
              "#fdca26"
             ],
             [
              1,
              "#f0f921"
             ]
            ],
            "type": "heatmap"
           }
          ],
          "heatmapgl": [
           {
            "colorbar": {
             "outlinewidth": 0,
             "ticks": ""
            },
            "colorscale": [
             [
              0,
              "#0d0887"
             ],
             [
              0.1111111111111111,
              "#46039f"
             ],
             [
              0.2222222222222222,
              "#7201a8"
             ],
             [
              0.3333333333333333,
              "#9c179e"
             ],
             [
              0.4444444444444444,
              "#bd3786"
             ],
             [
              0.5555555555555556,
              "#d8576b"
             ],
             [
              0.6666666666666666,
              "#ed7953"
             ],
             [
              0.7777777777777778,
              "#fb9f3a"
             ],
             [
              0.8888888888888888,
              "#fdca26"
             ],
             [
              1,
              "#f0f921"
             ]
            ],
            "type": "heatmapgl"
           }
          ],
          "histogram": [
           {
            "marker": {
             "pattern": {
              "fillmode": "overlay",
              "size": 10,
              "solidity": 0.2
             }
            },
            "type": "histogram"
           }
          ],
          "histogram2d": [
           {
            "colorbar": {
             "outlinewidth": 0,
             "ticks": ""
            },
            "colorscale": [
             [
              0,
              "#0d0887"
             ],
             [
              0.1111111111111111,
              "#46039f"
             ],
             [
              0.2222222222222222,
              "#7201a8"
             ],
             [
              0.3333333333333333,
              "#9c179e"
             ],
             [
              0.4444444444444444,
              "#bd3786"
             ],
             [
              0.5555555555555556,
              "#d8576b"
             ],
             [
              0.6666666666666666,
              "#ed7953"
             ],
             [
              0.7777777777777778,
              "#fb9f3a"
             ],
             [
              0.8888888888888888,
              "#fdca26"
             ],
             [
              1,
              "#f0f921"
             ]
            ],
            "type": "histogram2d"
           }
          ],
          "histogram2dcontour": [
           {
            "colorbar": {
             "outlinewidth": 0,
             "ticks": ""
            },
            "colorscale": [
             [
              0,
              "#0d0887"
             ],
             [
              0.1111111111111111,
              "#46039f"
             ],
             [
              0.2222222222222222,
              "#7201a8"
             ],
             [
              0.3333333333333333,
              "#9c179e"
             ],
             [
              0.4444444444444444,
              "#bd3786"
             ],
             [
              0.5555555555555556,
              "#d8576b"
             ],
             [
              0.6666666666666666,
              "#ed7953"
             ],
             [
              0.7777777777777778,
              "#fb9f3a"
             ],
             [
              0.8888888888888888,
              "#fdca26"
             ],
             [
              1,
              "#f0f921"
             ]
            ],
            "type": "histogram2dcontour"
           }
          ],
          "mesh3d": [
           {
            "colorbar": {
             "outlinewidth": 0,
             "ticks": ""
            },
            "type": "mesh3d"
           }
          ],
          "parcoords": [
           {
            "line": {
             "colorbar": {
              "outlinewidth": 0,
              "ticks": ""
             }
            },
            "type": "parcoords"
           }
          ],
          "pie": [
           {
            "automargin": true,
            "type": "pie"
           }
          ],
          "scatter": [
           {
            "marker": {
             "colorbar": {
              "outlinewidth": 0,
              "ticks": ""
             }
            },
            "type": "scatter"
           }
          ],
          "scatter3d": [
           {
            "line": {
             "colorbar": {
              "outlinewidth": 0,
              "ticks": ""
             }
            },
            "marker": {
             "colorbar": {
              "outlinewidth": 0,
              "ticks": ""
             }
            },
            "type": "scatter3d"
           }
          ],
          "scattercarpet": [
           {
            "marker": {
             "colorbar": {
              "outlinewidth": 0,
              "ticks": ""
             }
            },
            "type": "scattercarpet"
           }
          ],
          "scattergeo": [
           {
            "marker": {
             "colorbar": {
              "outlinewidth": 0,
              "ticks": ""
             }
            },
            "type": "scattergeo"
           }
          ],
          "scattergl": [
           {
            "marker": {
             "colorbar": {
              "outlinewidth": 0,
              "ticks": ""
             }
            },
            "type": "scattergl"
           }
          ],
          "scattermapbox": [
           {
            "marker": {
             "colorbar": {
              "outlinewidth": 0,
              "ticks": ""
             }
            },
            "type": "scattermapbox"
           }
          ],
          "scatterpolar": [
           {
            "marker": {
             "colorbar": {
              "outlinewidth": 0,
              "ticks": ""
             }
            },
            "type": "scatterpolar"
           }
          ],
          "scatterpolargl": [
           {
            "marker": {
             "colorbar": {
              "outlinewidth": 0,
              "ticks": ""
             }
            },
            "type": "scatterpolargl"
           }
          ],
          "scatterternary": [
           {
            "marker": {
             "colorbar": {
              "outlinewidth": 0,
              "ticks": ""
             }
            },
            "type": "scatterternary"
           }
          ],
          "surface": [
           {
            "colorbar": {
             "outlinewidth": 0,
             "ticks": ""
            },
            "colorscale": [
             [
              0,
              "#0d0887"
             ],
             [
              0.1111111111111111,
              "#46039f"
             ],
             [
              0.2222222222222222,
              "#7201a8"
             ],
             [
              0.3333333333333333,
              "#9c179e"
             ],
             [
              0.4444444444444444,
              "#bd3786"
             ],
             [
              0.5555555555555556,
              "#d8576b"
             ],
             [
              0.6666666666666666,
              "#ed7953"
             ],
             [
              0.7777777777777778,
              "#fb9f3a"
             ],
             [
              0.8888888888888888,
              "#fdca26"
             ],
             [
              1,
              "#f0f921"
             ]
            ],
            "type": "surface"
           }
          ],
          "table": [
           {
            "cells": {
             "fill": {
              "color": "#EBF0F8"
             },
             "line": {
              "color": "white"
             }
            },
            "header": {
             "fill": {
              "color": "#C8D4E3"
             },
             "line": {
              "color": "white"
             }
            },
            "type": "table"
           }
          ]
         },
         "layout": {
          "annotationdefaults": {
           "arrowcolor": "#2a3f5f",
           "arrowhead": 0,
           "arrowwidth": 1
          },
          "autotypenumbers": "strict",
          "coloraxis": {
           "colorbar": {
            "outlinewidth": 0,
            "ticks": ""
           }
          },
          "colorscale": {
           "diverging": [
            [
             0,
             "#8e0152"
            ],
            [
             0.1,
             "#c51b7d"
            ],
            [
             0.2,
             "#de77ae"
            ],
            [
             0.3,
             "#f1b6da"
            ],
            [
             0.4,
             "#fde0ef"
            ],
            [
             0.5,
             "#f7f7f7"
            ],
            [
             0.6,
             "#e6f5d0"
            ],
            [
             0.7,
             "#b8e186"
            ],
            [
             0.8,
             "#7fbc41"
            ],
            [
             0.9,
             "#4d9221"
            ],
            [
             1,
             "#276419"
            ]
           ],
           "sequential": [
            [
             0,
             "#0d0887"
            ],
            [
             0.1111111111111111,
             "#46039f"
            ],
            [
             0.2222222222222222,
             "#7201a8"
            ],
            [
             0.3333333333333333,
             "#9c179e"
            ],
            [
             0.4444444444444444,
             "#bd3786"
            ],
            [
             0.5555555555555556,
             "#d8576b"
            ],
            [
             0.6666666666666666,
             "#ed7953"
            ],
            [
             0.7777777777777778,
             "#fb9f3a"
            ],
            [
             0.8888888888888888,
             "#fdca26"
            ],
            [
             1,
             "#f0f921"
            ]
           ],
           "sequentialminus": [
            [
             0,
             "#0d0887"
            ],
            [
             0.1111111111111111,
             "#46039f"
            ],
            [
             0.2222222222222222,
             "#7201a8"
            ],
            [
             0.3333333333333333,
             "#9c179e"
            ],
            [
             0.4444444444444444,
             "#bd3786"
            ],
            [
             0.5555555555555556,
             "#d8576b"
            ],
            [
             0.6666666666666666,
             "#ed7953"
            ],
            [
             0.7777777777777778,
             "#fb9f3a"
            ],
            [
             0.8888888888888888,
             "#fdca26"
            ],
            [
             1,
             "#f0f921"
            ]
           ]
          },
          "colorway": [
           "#636efa",
           "#EF553B",
           "#00cc96",
           "#ab63fa",
           "#FFA15A",
           "#19d3f3",
           "#FF6692",
           "#B6E880",
           "#FF97FF",
           "#FECB52"
          ],
          "font": {
           "color": "#2a3f5f"
          },
          "geo": {
           "bgcolor": "white",
           "lakecolor": "white",
           "landcolor": "#E5ECF6",
           "showlakes": true,
           "showland": true,
           "subunitcolor": "white"
          },
          "hoverlabel": {
           "align": "left"
          },
          "hovermode": "closest",
          "mapbox": {
           "style": "light"
          },
          "paper_bgcolor": "white",
          "plot_bgcolor": "#E5ECF6",
          "polar": {
           "angularaxis": {
            "gridcolor": "white",
            "linecolor": "white",
            "ticks": ""
           },
           "bgcolor": "#E5ECF6",
           "radialaxis": {
            "gridcolor": "white",
            "linecolor": "white",
            "ticks": ""
           }
          },
          "scene": {
           "xaxis": {
            "backgroundcolor": "#E5ECF6",
            "gridcolor": "white",
            "gridwidth": 2,
            "linecolor": "white",
            "showbackground": true,
            "ticks": "",
            "zerolinecolor": "white"
           },
           "yaxis": {
            "backgroundcolor": "#E5ECF6",
            "gridcolor": "white",
            "gridwidth": 2,
            "linecolor": "white",
            "showbackground": true,
            "ticks": "",
            "zerolinecolor": "white"
           },
           "zaxis": {
            "backgroundcolor": "#E5ECF6",
            "gridcolor": "white",
            "gridwidth": 2,
            "linecolor": "white",
            "showbackground": true,
            "ticks": "",
            "zerolinecolor": "white"
           }
          },
          "shapedefaults": {
           "line": {
            "color": "#2a3f5f"
           }
          },
          "ternary": {
           "aaxis": {
            "gridcolor": "white",
            "linecolor": "white",
            "ticks": ""
           },
           "baxis": {
            "gridcolor": "white",
            "linecolor": "white",
            "ticks": ""
           },
           "bgcolor": "#E5ECF6",
           "caxis": {
            "gridcolor": "white",
            "linecolor": "white",
            "ticks": ""
           }
          },
          "title": {
           "x": 0.05
          },
          "xaxis": {
           "automargin": true,
           "gridcolor": "white",
           "linecolor": "white",
           "ticks": "",
           "title": {
            "standoff": 15
           },
           "zerolinecolor": "white",
           "zerolinewidth": 2
          },
          "yaxis": {
           "automargin": true,
           "gridcolor": "white",
           "linecolor": "white",
           "ticks": "",
           "title": {
            "standoff": 15
           },
           "zerolinecolor": "white",
           "zerolinewidth": 2
          }
         }
        }
       }
      },
      "image/png": "[encoded data removed]",
      "text/html": [
       "<div>                            <div id=\"142fb30e-715c-4bc1-8ea2-08c534d9fc11\" class=\"plotly-graph-div\" style=\"height:525px; width:100%;\"></div>            <script type=\"text/javascript\">                require([\"plotly\"], function(Plotly) {                    window.PLOTLYENV=window.PLOTLYENV || {};                                    if (document.getElementById(\"142fb30e-715c-4bc1-8ea2-08c534d9fc11\")) {                    Plotly.newPlot(                        \"142fb30e-715c-4bc1-8ea2-08c534d9fc11\",                        [{\"domain\":{\"x\":[0,1],\"y\":[0,1]},\"mode\":\"gauge+number\",\"title\":{\"text\":\"WHO\"},\"type\":\"indicator\",\"value\":270}],                        {\"template\":{\"data\":{\"bar\":[{\"error_x\":{\"color\":\"#2a3f5f\"},\"error_y\":{\"color\":\"#2a3f5f\"},\"marker\":{\"line\":{\"color\":\"#E5ECF6\",\"width\":0.5},\"pattern\":{\"fillmode\":\"overlay\",\"size\":10,\"solidity\":0.2}},\"type\":\"bar\"}],\"barpolar\":[{\"marker\":{\"line\":{\"color\":\"#E5ECF6\",\"width\":0.5},\"pattern\":{\"fillmode\":\"overlay\",\"size\":10,\"solidity\":0.2}},\"type\":\"barpolar\"}],\"carpet\":[{\"aaxis\":{\"endlinecolor\":\"#2a3f5f\",\"gridcolor\":\"white\",\"linecolor\":\"white\",\"minorgridcolor\":\"white\",\"startlinecolor\":\"#2a3f5f\"},\"baxis\":{\"endlinecolor\":\"#2a3f5f\",\"gridcolor\":\"white\",\"linecolor\":\"white\",\"minorgridcolor\":\"white\",\"startlinecolor\":\"#2a3f5f\"},\"type\":\"carpet\"}],\"choropleth\":[{\"colorbar\":{\"outlinewidth\":0,\"ticks\":\"\"},\"type\":\"choropleth\"}],\"contour\":[{\"colorbar\":{\"outlinewidth\":0,\"ticks\":\"\"},\"colorscale\":[[0.0,\"#0d0887\"],[0.1111111111111111,\"#46039f\"],[0.2222222222222222,\"#7201a8\"],[0.3333333333333333,\"#9c179e\"],[0.4444444444444444,\"#bd3786\"],[0.5555555555555556,\"#d8576b\"],[0.6666666666666666,\"#ed7953\"],[0.7777777777777778,\"#fb9f3a\"],[0.8888888888888888,\"#fdca26\"],[1.0,\"#f0f921\"]],\"type\":\"contour\"}],\"contourcarpet\":[{\"colorbar\":{\"outlinewidth\":0,\"ticks\":\"\"},\"type\":\"contourcarpet\"}],\"heatmap\":[{\"colorbar\":{\"outlinewidth\":0,\"ticks\":\"\"},\"colorscale\":[[0.0,\"#0d0887\"],[0.1111111111111111,\"#46039f\"],[0.2222222222222222,\"#7201a8\"],[0.3333333333333333,\"#9c179e\"],[0.4444444444444444,\"#bd3786\"],[0.5555555555555556,\"#d8576b\"],[0.6666666666666666,\"#ed7953\"],[0.7777777777777778,\"#fb9f3a\"],[0.8888888888888888,\"#fdca26\"],[1.0,\"#f0f921\"]],\"type\":\"heatmap\"}],\"heatmapgl\":[{\"colorbar\":{\"outlinewidth\":0,\"ticks\":\"\"},\"colorscale\":[[0.0,\"#0d0887\"],[0.1111111111111111,\"#46039f\"],[0.2222222222222222,\"#7201a8\"],[0.3333333333333333,\"#9c179e\"],[0.4444444444444444,\"#bd3786\"],[0.5555555555555556,\"#d8576b\"],[0.6666666666666666,\"#ed7953\"],[0.7777777777777778,\"#fb9f3a\"],[0.8888888888888888,\"#fdca26\"],[1.0,\"#f0f921\"]],\"type\":\"heatmapgl\"}],\"histogram\":[{\"marker\":{\"pattern\":{\"fillmode\":\"overlay\",\"size\":10,\"solidity\":0.2}},\"type\":\"histogram\"}],\"histogram2d\":[{\"colorbar\":{\"outlinewidth\":0,\"ticks\":\"\"},\"colorscale\":[[0.0,\"#0d0887\"],[0.1111111111111111,\"#46039f\"],[0.2222222222222222,\"#7201a8\"],[0.3333333333333333,\"#9c179e\"],[0.4444444444444444,\"#bd3786\"],[0.5555555555555556,\"#d8576b\"],[0.6666666666666666,\"#ed7953\"],[0.7777777777777778,\"#fb9f3a\"],[0.8888888888888888,\"#fdca26\"],[1.0,\"#f0f921\"]],\"type\":\"histogram2d\"}],\"histogram2dcontour\":[{\"colorbar\":{\"outlinewidth\":0,\"ticks\":\"\"},\"colorscale\":[[0.0,\"#0d0887\"],[0.1111111111111111,\"#46039f\"],[0.2222222222222222,\"#7201a8\"],[0.3333333333333333,\"#9c179e\"],[0.4444444444444444,\"#bd3786\"],[0.5555555555555556,\"#d8576b\"],[0.6666666666666666,\"#ed7953\"],[0.7777777777777778,\"#fb9f3a\"],[0.8888888888888888,\"#fdca26\"],[1.0,\"#f0f921\"]],\"type\":\"histogram2dcontour\"}],\"mesh3d\":[{\"colorbar\":{\"outlinewidth\":0,\"ticks\":\"\"},\"type\":\"mesh3d\"}],\"parcoords\":[{\"line\":{\"colorbar\":{\"outlinewidth\":0,\"ticks\":\"\"}},\"type\":\"parcoords\"}],\"pie\":[{\"automargin\":true,\"type\":\"pie\"}],\"scatter\":[{\"marker\":{\"colorbar\":{\"outlinewidth\":0,\"ticks\":\"\"}},\"type\":\"scatter\"}],\"scatter3d\":[{\"line\":{\"colorbar\":{\"outlinewidth\":0,\"ticks\":\"\"}},\"marker\":{\"colorbar\":{\"outlinewidth\":0,\"ticks\":\"\"}},\"type\":\"scatter3d\"}],\"scattercarpet\":[{\"marker\":{\"colorbar\":{\"outlinewidth\":0,\"ticks\":\"\"}},\"type\":\"scattercarpet\"}],\"scattergeo\":[{\"marker\":{\"colorbar\":{\"outlinewidth\":0,\"ticks\":\"\"}},\"type\":\"scattergeo\"}],\"scattergl\":[{\"marker\":{\"colorbar\":{\"outlinewidth\":0,\"ticks\":\"\"}},\"type\":\"scattergl\"}],\"scattermapbox\":[{\"marker\":{\"colorbar\":{\"outlinewidth\":0,\"ticks\":\"\"}},\"type\":\"scattermapbox\"}],\"scatterpolar\":[{\"marker\":{\"colorbar\":{\"outlinewidth\":0,\"ticks\":\"\"}},\"type\":\"scatterpolar\"}],\"scatterpolargl\":[{\"marker\":{\"colorbar\":{\"outlinewidth\":0,\"ticks\":\"\"}},\"type\":\"scatterpolargl\"}],\"scatterternary\":[{\"marker\":{\"colorbar\":{\"outlinewidth\":0,\"ticks\":\"\"}},\"type\":\"scatterternary\"}],\"surface\":[{\"colorbar\":{\"outlinewidth\":0,\"ticks\":\"\"},\"colorscale\":[[0.0,\"#0d0887\"],[0.1111111111111111,\"#46039f\"],[0.2222222222222222,\"#7201a8\"],[0.3333333333333333,\"#9c179e\"],[0.4444444444444444,\"#bd3786\"],[0.5555555555555556,\"#d8576b\"],[0.6666666666666666,\"#ed7953\"],[0.7777777777777778,\"#fb9f3a\"],[0.8888888888888888,\"#fdca26\"],[1.0,\"#f0f921\"]],\"type\":\"surface\"}],\"table\":[{\"cells\":{\"fill\":{\"color\":\"#EBF0F8\"},\"line\":{\"color\":\"white\"}},\"header\":{\"fill\":{\"color\":\"#C8D4E3\"},\"line\":{\"color\":\"white\"}},\"type\":\"table\"}]},\"layout\":{\"annotationdefaults\":{\"arrowcolor\":\"#2a3f5f\",\"arrowhead\":0,\"arrowwidth\":1},\"autotypenumbers\":\"strict\",\"coloraxis\":{\"colorbar\":{\"outlinewidth\":0,\"ticks\":\"\"}},\"colorscale\":{\"diverging\":[[0,\"#8e0152\"],[0.1,\"#c51b7d\"],[0.2,\"#de77ae\"],[0.3,\"#f1b6da\"],[0.4,\"#fde0ef\"],[0.5,\"#f7f7f7\"],[0.6,\"#e6f5d0\"],[0.7,\"#b8e186\"],[0.8,\"#7fbc41\"],[0.9,\"#4d9221\"],[1,\"#276419\"]],\"sequential\":[[0.0,\"#0d0887\"],[0.1111111111111111,\"#46039f\"],[0.2222222222222222,\"#7201a8\"],[0.3333333333333333,\"#9c179e\"],[0.4444444444444444,\"#bd3786\"],[0.5555555555555556,\"#d8576b\"],[0.6666666666666666,\"#ed7953\"],[0.7777777777777778,\"#fb9f3a\"],[0.8888888888888888,\"#fdca26\"],[1.0,\"#f0f921\"]],\"sequentialminus\":[[0.0,\"#0d0887\"],[0.1111111111111111,\"#46039f\"],[0.2222222222222222,\"#7201a8\"],[0.3333333333333333,\"#9c179e\"],[0.4444444444444444,\"#bd3786\"],[0.5555555555555556,\"#d8576b\"],[0.6666666666666666,\"#ed7953\"],[0.7777777777777778,\"#fb9f3a\"],[0.8888888888888888,\"#fdca26\"],[1.0,\"#f0f921\"]]},\"colorway\":[\"#636efa\",\"#EF553B\",\"#00cc96\",\"#ab63fa\",\"#FFA15A\",\"#19d3f3\",\"#FF6692\",\"#B6E880\",\"#FF97FF\",\"#FECB52\"],\"font\":{\"color\":\"#2a3f5f\"},\"geo\":{\"bgcolor\":\"white\",\"lakecolor\":\"white\",\"landcolor\":\"#E5ECF6\",\"showlakes\":true,\"showland\":true,\"subunitcolor\":\"white\"},\"hoverlabel\":{\"align\":\"left\"},\"hovermode\":\"closest\",\"mapbox\":{\"style\":\"light\"},\"paper_bgcolor\":\"white\",\"plot_bgcolor\":\"#E5ECF6\",\"polar\":{\"angularaxis\":{\"gridcolor\":\"white\",\"linecolor\":\"white\",\"ticks\":\"\"},\"bgcolor\":\"#E5ECF6\",\"radialaxis\":{\"gridcolor\":\"white\",\"linecolor\":\"white\",\"ticks\":\"\"}},\"scene\":{\"xaxis\":{\"backgroundcolor\":\"#E5ECF6\",\"gridcolor\":\"white\",\"gridwidth\":2,\"linecolor\":\"white\",\"showbackground\":true,\"ticks\":\"\",\"zerolinecolor\":\"white\"},\"yaxis\":{\"backgroundcolor\":\"#E5ECF6\",\"gridcolor\":\"white\",\"gridwidth\":2,\"linecolor\":\"white\",\"showbackground\":true,\"ticks\":\"\",\"zerolinecolor\":\"white\"},\"zaxis\":{\"backgroundcolor\":\"#E5ECF6\",\"gridcolor\":\"white\",\"gridwidth\":2,\"linecolor\":\"white\",\"showbackground\":true,\"ticks\":\"\",\"zerolinecolor\":\"white\"}},\"shapedefaults\":{\"line\":{\"color\":\"#2a3f5f\"}},\"ternary\":{\"aaxis\":{\"gridcolor\":\"white\",\"linecolor\":\"white\",\"ticks\":\"\"},\"baxis\":{\"gridcolor\":\"white\",\"linecolor\":\"white\",\"ticks\":\"\"},\"bgcolor\":\"#E5ECF6\",\"caxis\":{\"gridcolor\":\"white\",\"linecolor\":\"white\",\"ticks\":\"\"}},\"title\":{\"x\":0.05},\"xaxis\":{\"automargin\":true,\"gridcolor\":\"white\",\"linecolor\":\"white\",\"ticks\":\"\",\"title\":{\"standoff\":15},\"zerolinecolor\":\"white\",\"zerolinewidth\":2},\"yaxis\":{\"automargin\":true,\"gridcolor\":\"white\",\"linecolor\":\"white\",\"ticks\":\"\",\"title\":{\"standoff\":15},\"zerolinecolor\":\"white\",\"zerolinewidth\":2}}}},                        {\"responsive\": true}                    ).then(function(){\n",
       "                            \n",
       "var gd = document.getElementById('142fb30e-715c-4bc1-8ea2-08c534d9fc11');\n",
       "var x = new MutationObserver(function (mutations, observer) {{\n",
       "        var display = window.getComputedStyle(gd).display;\n",
       "        if (!display || display === 'none') {{\n",
       "            console.log([gd, 'removed!']);\n",
       "            Plotly.purge(gd);\n",
       "            observer.disconnect();\n",
       "        }}\n",
       "}});\n",
       "\n",
       "// Listen for the removal of the full notebook cells\n",
       "var notebookContainer = gd.closest('#notebook-container');\n",
       "if (notebookContainer) {{\n",
       "    x.observe(notebookContainer, {childList: true});\n",
       "}}\n",
       "\n",
       "// Listen for the clearing of the current output cell\n",
       "var outputEl = gd.closest('.output');\n",
       "if (outputEl) {{\n",
       "    x.observe(outputEl, {childList: true});\n",
       "}}\n",
       "\n",
       "                        })                };                });            </script>        </div>"
      ]
     },
     "metadata": {},
     "output_type": "display_data"
    },
    {
     "ename": "ValueError",
     "evalue": "\nImage export using the \"kaleido\" engine requires the kaleido package,\nwhich can be installed using pip:\n    $ pip install -U kaleido\n",
     "output_type": "error",
     "traceback": [
      "\u001b[0;31m---------------------------------------------------------------------------\u001b[0m",
      "\u001b[0;31mValueError\u001b[0m                                Traceback (most recent call last)",
      "\u001b[0;32m<ipython-input-213-af17846db1f7>\u001b[0m in \u001b[0;36m<module>\u001b[0;34m\u001b[0m\n\u001b[1;32m      6\u001b[0m \u001b[0;34m\u001b[0m\u001b[0m\n\u001b[1;32m      7\u001b[0m \u001b[0mfig\u001b[0m\u001b[0;34m.\u001b[0m\u001b[0mshow\u001b[0m\u001b[0;34m(\u001b[0m\u001b[0;34m)\u001b[0m\u001b[0;34m\u001b[0m\u001b[0;34m\u001b[0m\u001b[0m\n\u001b[0;32m----> 8\u001b[0;31m \u001b[0mfig\u001b[0m\u001b[0;34m.\u001b[0m\u001b[0mwrite_image\u001b[0m\u001b[0;34m(\u001b[0m\u001b[0;34m\"images/fig1.png\"\u001b[0m\u001b[0;34m)\u001b[0m\u001b[0;34m\u001b[0m\u001b[0;34m\u001b[0m\u001b[0m\n\u001b[0m",
      "\u001b[0;32m/opt/anaconda3/lib/python3.8/site-packages/plotly/basedatatypes.py\u001b[0m in \u001b[0;36mwrite_image\u001b[0;34m(self, *args, **kwargs)\u001b[0m\n\u001b[1;32m   3819\u001b[0m         \u001b[0;32mimport\u001b[0m \u001b[0mplotly\u001b[0m\u001b[0;34m.\u001b[0m\u001b[0mio\u001b[0m \u001b[0;32mas\u001b[0m \u001b[0mpio\u001b[0m\u001b[0;34m\u001b[0m\u001b[0;34m\u001b[0m\u001b[0m\n\u001b[1;32m   3820\u001b[0m \u001b[0;34m\u001b[0m\u001b[0m\n\u001b[0;32m-> 3821\u001b[0;31m         \u001b[0;32mreturn\u001b[0m \u001b[0mpio\u001b[0m\u001b[0;34m.\u001b[0m\u001b[0mwrite_image\u001b[0m\u001b[0;34m(\u001b[0m\u001b[0mself\u001b[0m\u001b[0;34m,\u001b[0m \u001b[0;34m*\u001b[0m\u001b[0margs\u001b[0m\u001b[0;34m,\u001b[0m \u001b[0;34m**\u001b[0m\u001b[0mkwargs\u001b[0m\u001b[0;34m)\u001b[0m\u001b[0;34m\u001b[0m\u001b[0;34m\u001b[0m\u001b[0m\n\u001b[0m\u001b[1;32m   3822\u001b[0m \u001b[0;34m\u001b[0m\u001b[0m\n\u001b[1;32m   3823\u001b[0m     \u001b[0;31m# Static helpers\u001b[0m\u001b[0;34m\u001b[0m\u001b[0;34m\u001b[0m\u001b[0;34m\u001b[0m\u001b[0m\n",
      "\u001b[0;32m/opt/anaconda3/lib/python3.8/site-packages/plotly/io/_kaleido.py\u001b[0m in \u001b[0;36mwrite_image\u001b[0;34m(fig, file, format, scale, width, height, validate, engine)\u001b[0m\n\u001b[1;32m    266\u001b[0m     \u001b[0;31m# -------------\u001b[0m\u001b[0;34m\u001b[0m\u001b[0;34m\u001b[0m\u001b[0;34m\u001b[0m\u001b[0m\n\u001b[1;32m    267\u001b[0m     \u001b[0;31m# Do this first so we don't create a file if image conversion fails\u001b[0m\u001b[0;34m\u001b[0m\u001b[0;34m\u001b[0m\u001b[0;34m\u001b[0m\u001b[0m\n\u001b[0;32m--> 268\u001b[0;31m     img_data = to_image(\n\u001b[0m\u001b[1;32m    269\u001b[0m         \u001b[0mfig\u001b[0m\u001b[0;34m,\u001b[0m\u001b[0;34m\u001b[0m\u001b[0;34m\u001b[0m\u001b[0m\n\u001b[1;32m    270\u001b[0m         \u001b[0mformat\u001b[0m\u001b[0;34m=\u001b[0m\u001b[0mformat\u001b[0m\u001b[0;34m,\u001b[0m\u001b[0;34m\u001b[0m\u001b[0;34m\u001b[0m\u001b[0m\n",
      "\u001b[0;32m/opt/anaconda3/lib/python3.8/site-packages/plotly/io/_kaleido.py\u001b[0m in \u001b[0;36mto_image\u001b[0;34m(fig, format, width, height, scale, validate, engine)\u001b[0m\n\u001b[1;32m    132\u001b[0m     \u001b[0;31m# Raise informative error message if Kaleido is not installed\u001b[0m\u001b[0;34m\u001b[0m\u001b[0;34m\u001b[0m\u001b[0;34m\u001b[0m\u001b[0m\n\u001b[1;32m    133\u001b[0m     \u001b[0;32mif\u001b[0m \u001b[0mscope\u001b[0m \u001b[0;32mis\u001b[0m \u001b[0;32mNone\u001b[0m\u001b[0;34m:\u001b[0m\u001b[0;34m\u001b[0m\u001b[0;34m\u001b[0m\u001b[0m\n\u001b[0;32m--> 134\u001b[0;31m         raise ValueError(\n\u001b[0m\u001b[1;32m    135\u001b[0m             \"\"\"\n\u001b[1;32m    136\u001b[0m \u001b[0mImage\u001b[0m \u001b[0mexport\u001b[0m \u001b[0musing\u001b[0m \u001b[0mthe\u001b[0m \u001b[0;34m\"kaleido\"\u001b[0m \u001b[0mengine\u001b[0m \u001b[0mrequires\u001b[0m \u001b[0mthe\u001b[0m \u001b[0mkaleido\u001b[0m \u001b[0mpackage\u001b[0m\u001b[0;34m,\u001b[0m\u001b[0;34m\u001b[0m\u001b[0;34m\u001b[0m\u001b[0m\n",
      "\u001b[0;31mValueError\u001b[0m: \nImage export using the \"kaleido\" engine requires the kaleido package,\nwhich can be installed using pip:\n    $ pip install -U kaleido\n"
     ]
    }
   ],
   "source": [
    "feature_rangetuple (min, max), default=(0, 1)"
   ]
  },
  {
   "cell_type": "code",
   "execution_count": 212,
   "id": "b41bfe31-b645-4e25-8464-16c750cdb0f0",
   "metadata": {},
   "outputs": [
    {
     "data": {
      "application/vnd.plotly.v1+json": {
       "config": {
        "plotlyServerURL": "https://plot.ly"
       },
       "data": [
        {
         "marker": {
          "color": [
           0.9501761192470797,
           0.5566531881951564,
           0.9156063497662745,
           0.6415662089463375,
           0.39000771414124624,
           0.48599066709690975,
           0.6043104829199732,
           0.5495479215085626,
           0.9261814267064536,
           0.9187334356336061,
           0.3948756129235549,
           0.9632625284407118,
           0.17395566668046436,
           0.12632951943963733,
           0.13507915804673132,
           0.5056621656768967,
           0.021524805274197978,
           0.947970211217681,
           0.8271154711707325,
           0.015018980742122379,
           0.17619625557505525,
           0.332063574366837,
           0.1309968448109169,
           0.8094906921265821,
           0.34473665268329345,
           0.9401074823333672,
           0.58201417994708,
           0.8788319844118441,
           0.8447344453922219,
           0.9053923187086492,
           0.45988026581680697,
           0.5463468160203733,
           0.7986035911520394,
           0.28571885173414757,
           0.4902535226199277,
           0.5991103076458784,
           0.015533275550835723,
           0.5934814081966372,
           0.4336763489894583,
           0.8073605288848414,
           0.31524480309537295,
           0.8928887085251513,
           0.5778572152845355,
           0.18401020162746506,
           0.7879292338255043,
           0.6120311770449339,
           0.053909272073752956,
           0.4201936800011322,
           0.6790688365654296,
           0.9186017779775258,
           0.00040202489135743313,
           0.9767591490310596,
           0.37658031474577447,
           0.9737835383583225,
           0.604716100974053,
           0.828845807980693,
           0.5747115047081023,
           0.6280761983073504,
           0.28557628169569393,
           0.586833340656083,
           0.7500217637026599,
           0.8583138364290424,
           0.7550821884676802,
           0.698057248447303,
           0.8644794300545998,
           0.32268099683674645,
           0.6707887907875872,
           0.45087393641334916,
           0.3821027520315172,
           0.4108113499221856,
           0.4014795834695406,
           0.3173839459582769,
           0.6219193679203014,
           0.43024727082126435,
           0.9738020779272523,
           0.6778008914343111,
           0.19856988842711087,
           0.4267010093480328,
           0.343346239774423,
           0.7976388039585666,
           0.8799982885634318,
           0.903841955826372,
           0.6627198123752622,
           0.2702082620297578,
           0.25236670150458973,
           0.8548979426974024,
           0.5277146463087466,
           0.8021610840045981,
           0.5724885171916063,
           0.7331425252875111,
           0.5190116274640558,
           0.770883910501888,
           0.5688579907047155,
           0.4657098785919809,
           0.3426889079532818,
           0.06820934841670412,
           0.37792417932809985,
           0.07962607769825236,
           0.982817113730445,
           0.18161285133076377
          ],
          "colorscale": [
           [
            0,
            "#440154"
           ],
           [
            0.1111111111111111,
            "#482878"
           ],
           [
            0.2222222222222222,
            "#3e4989"
           ],
           [
            0.3333333333333333,
            "#31688e"
           ],
           [
            0.4444444444444444,
            "#26828e"
           ],
           [
            0.5555555555555556,
            "#1f9e89"
           ],
           [
            0.6666666666666666,
            "#35b779"
           ],
           [
            0.7777777777777778,
            "#6ece58"
           ],
           [
            0.8888888888888888,
            "#b5de2b"
           ],
           [
            1,
            "#fde725"
           ]
          ],
          "opacity": 0.6,
          "size": [
           24.355760931616192,
           26.248849348676945,
           20.652397571578298,
           17.08483238236127,
           4.829143104468264,
           14.006400682899189,
           10.35516153465645,
           6.7511987344225375,
           17.775356062973902,
           9.368095131057508,
           27.48916660405052,
           27.28906574854671,
           7.713548813465886,
           3.3267390223208757,
           5.788881960573385,
           14.987525120366582,
           21.85757003923789,
           6.245833152263744,
           7.441006751316922,
           25.55015624809101,
           12.47546154802582,
           18.500552014657085,
           7.009984177177502,
           3.059017782773923,
           15.475710509055894,
           14.31422961149347,
           4.580149322794897,
           18.654186952212466,
           16.320303564418143,
           19.62412040912233,
           4.336366203739795,
           22.545834514057315,
           6.66147419399768,
           15.58055473098099,
           23.558880846648567,
           0.6699128397541854,
           9.730873791785594,
           26.18767129200333,
           25.341288228062087,
           16.15321777783631,
           25.99824822499539,
           28.494179740608796,
           24.79220992888024,
           25.62346331509616,
           2.9623020546104506,
           19.53912997022973,
           21.105509644579588,
           18.30722437939889,
           23.988457852080842,
           1.0371365961490275,
           23.1071620366494,
           21.95185802218581,
           7.7909517989505925,
           7.712078964664401,
           18.969099522903832,
           10.358923847732447,
           23.897660340218625,
           13.384386960103718,
           23.482482443525157,
           29.71415350871522,
           9.007450186017001,
           4.290174847742981,
           27.039253090478216,
           16.2467813666212,
           29.242211125652467,
           19.098132000056918,
           29.81739073831437,
           16.38212412428855,
           15.792778017165638,
           4.062837092165097,
           10.671155129516434,
           0.7865570188911986,
           4.811855385589473,
           22.36911578122488,
           0.9119906978636649,
           10.99629291731233,
           25.870387585141323,
           20.780331525220628,
           20.728264261985057,
           5.659104028659327,
           13.2571284224527,
           17.447322220328736,
           29.692551229911157,
           6.1171867569936555,
           7.431987052870646,
           7.865192513187358,
           22.505172398939784,
           13.709259823070784,
           1.7078831523328497,
           15.255487218307188,
           6.358804939310279,
           23.958127342806307,
           8.919941445218168,
           0.8281803586351089,
           17.80297348393863,
           25.315212867935664,
           11.430483721866425,
           22.495749321784302,
           15.334244348913845,
           16.22855414886566
          ]
         },
         "mode": "markers",
         "type": "scatter",
         "x": [
          0.417022004702574,
          0.7203244934421581,
          0.00011437481734488664,
          0.30233257263183977,
          0.14675589081711304,
          0.0923385947687978,
          0.1862602113776709,
          0.34556072704304774,
          0.39676747423066994,
          0.538816734003357,
          0.4191945144032948,
          0.6852195003967595,
          0.20445224973151743,
          0.8781174363909454,
          0.027387593197926163,
          0.6704675101784022,
          0.41730480236712697,
          0.5586898284457517,
          0.14038693859523377,
          0.1981014890848788,
          0.8007445686755367,
          0.9682615757193975,
          0.31342417815924284,
          0.6923226156693141,
          0.8763891522960383,
          0.8946066635038473,
          0.08504421136977791,
          0.03905478323288236,
          0.1698304195645689,
          0.8781425034294131,
          0.0983468338330501,
          0.42110762500505217,
          0.9578895301505019,
          0.5331652849730171,
          0.6918771139504734,
          0.31551563100606295,
          0.6865009276815837,
          0.8346256718973729,
          0.018288277344191806,
          0.7501443149449675,
          0.9888610889064947,
          0.7481656543798394,
          0.2804439920644052,
          0.7892793284514885,
          0.10322600657764203,
          0.44789352617590517,
          0.9085955030930956,
          0.2936141483736795,
          0.28777533858634874,
          0.13002857211827767,
          0.019366957870297075,
          0.678835532939891,
          0.21162811600005904,
          0.2655466593722262,
          0.4915731592803383,
          0.053362545117080384,
          0.5741176054920131,
          0.14672857490581015,
          0.5893055369032842,
          0.6997583600209312,
          0.10233442882782584,
          0.4140559878195683,
          0.6944001577277451,
          0.41417926952690265,
          0.04995345894608716,
          0.5358964059155116,
          0.6637946452197888,
          0.5148891120583086,
          0.9445947559908133,
          0.5865550405019929,
          0.9034019152878835,
          0.13747470414623753,
          0.13927634725075855,
          0.8073912887095238,
          0.3976768369855336,
          0.16535419711693278,
          0.9275085803960339,
          0.34776585974550656,
          0.7508121031361555,
          0.7259979853504515,
          0.8833060912058098,
          0.6236722070556089,
          0.7509424340273372,
          0.34889834197784253,
          0.2699278917650261,
          0.8958862181960668,
          0.4280911898712949,
          0.9648400471483856,
          0.6634414978184481,
          0.6216957202091218,
          0.11474597295337519,
          0.9494892587070712,
          0.4499121334799405,
          0.5783896143871318,
          0.40813680276128117,
          0.2370269802430277,
          0.9033795205622538,
          0.5736794866722859,
          0.00287032703115897,
          0.6171449136207239
         ],
         "y": [
          0.32664490177209615,
          0.5270581022576093,
          0.8859420993107745,
          0.35726976000249977,
          0.9085351509197992,
          0.6233601157918027,
          0.015821242846556283,
          0.9294372337437613,
          0.690896917516924,
          0.9973228504514805,
          0.17234050834532855,
          0.13713574962887776,
          0.9325954630371636,
          0.6968181614899002,
          0.06600017272206249,
          0.7554630526024664,
          0.7538761884612464,
          0.9230245355464833,
          0.7115247586284718,
          0.1242709619721647,
          0.01988013383979559,
          0.026210986877719278,
          0.028306488020794607,
          0.2462110676030459,
          0.860027948682888,
          0.5388310643416528,
          0.5528219786857659,
          0.8420308923596057,
          0.12417331511991114,
          0.2791836790111395,
          0.5857592714582879,
          0.9695957483196745,
          0.56103021925571,
          0.01864728937294302,
          0.8006326726806163,
          0.23297427384102043,
          0.8071051956187791,
          0.38786064406417176,
          0.8635418545594287,
          0.7471216427371846,
          0.5562402339904189,
          0.13645522566068502,
          0.05991768951221166,
          0.12134345574073735,
          0.044551878544761725,
          0.1074941291060929,
          0.2257093386078547,
          0.7129889803826767,
          0.5597169820541424,
          0.012555980159115854,
          0.07197427968948678,
          0.967276330000272,
          0.5681004619199421,
          0.20329323466099047,
          0.2523257445703234,
          0.7438258540750929,
          0.1954294811093188,
          0.5813589272732578,
          0.9700199890883123,
          0.8468288014900353,
          0.23984775914758616,
          0.49376971426872995,
          0.6199557183813798,
          0.8289808995501787,
          0.15679139464608427,
          0.018576202177409518,
          0.07002214371922233,
          0.4863451109370318,
          0.6063294616533303,
          0.5688514370864813,
          0.31736240932216075,
          0.9886161544124489,
          0.5797452192457969,
          0.3801411726235504,
          0.5509482191178968,
          0.7453344309065021,
          0.6692328934531846,
          0.2649195576628094,
          0.06633483442844157,
          0.3700841979141063,
          0.6297175070215645,
          0.2101740099148396,
          0.7527555537388139,
          0.06653648135411494,
          0.26031509857854096,
          0.8047545637433454,
          0.19343428262332774,
          0.6394608808799401,
          0.5246703091237337,
          0.9248079703993507,
          0.263296770487111,
          0.06596109068402378,
          0.7350659632886695,
          0.7721780295432468,
          0.907815852503524,
          0.9319720691968373,
          0.013951572975597015,
          0.2343620861214205,
          0.6167783570016576,
          0.9490163206876164
         ]
        }
       ],
       "layout": {
        "autosize": true,
        "template": {
         "data": {
          "bar": [
           {
            "error_x": {
             "color": "#2a3f5f"
            },
            "error_y": {
             "color": "#2a3f5f"
            },
            "marker": {
             "line": {
              "color": "#E5ECF6",
              "width": 0.5
             },
             "pattern": {
              "fillmode": "overlay",
              "size": 10,
              "solidity": 0.2
             }
            },
            "type": "bar"
           }
          ],
          "barpolar": [
           {
            "marker": {
             "line": {
              "color": "#E5ECF6",
              "width": 0.5
             },
             "pattern": {
              "fillmode": "overlay",
              "size": 10,
              "solidity": 0.2
             }
            },
            "type": "barpolar"
           }
          ],
          "carpet": [
           {
            "aaxis": {
             "endlinecolor": "#2a3f5f",
             "gridcolor": "white",
             "linecolor": "white",
             "minorgridcolor": "white",
             "startlinecolor": "#2a3f5f"
            },
            "baxis": {
             "endlinecolor": "#2a3f5f",
             "gridcolor": "white",
             "linecolor": "white",
             "minorgridcolor": "white",
             "startlinecolor": "#2a3f5f"
            },
            "type": "carpet"
           }
          ],
          "choropleth": [
           {
            "colorbar": {
             "outlinewidth": 0,
             "ticks": ""
            },
            "type": "choropleth"
           }
          ],
          "contour": [
           {
            "colorbar": {
             "outlinewidth": 0,
             "ticks": ""
            },
            "colorscale": [
             [
              0,
              "#0d0887"
             ],
             [
              0.1111111111111111,
              "#46039f"
             ],
             [
              0.2222222222222222,
              "#7201a8"
             ],
             [
              0.3333333333333333,
              "#9c179e"
             ],
             [
              0.4444444444444444,
              "#bd3786"
             ],
             [
              0.5555555555555556,
              "#d8576b"
             ],
             [
              0.6666666666666666,
              "#ed7953"
             ],
             [
              0.7777777777777778,
              "#fb9f3a"
             ],
             [
              0.8888888888888888,
              "#fdca26"
             ],
             [
              1,
              "#f0f921"
             ]
            ],
            "type": "contour"
           }
          ],
          "contourcarpet": [
           {
            "colorbar": {
             "outlinewidth": 0,
             "ticks": ""
            },
            "type": "contourcarpet"
           }
          ],
          "heatmap": [
           {
            "colorbar": {
             "outlinewidth": 0,
             "ticks": ""
            },
            "colorscale": [
             [
              0,
              "#0d0887"
             ],
             [
              0.1111111111111111,
              "#46039f"
             ],
             [
              0.2222222222222222,
              "#7201a8"
             ],
             [
              0.3333333333333333,
              "#9c179e"
             ],
             [
              0.4444444444444444,
              "#bd3786"
             ],
             [
              0.5555555555555556,
              "#d8576b"
             ],
             [
              0.6666666666666666,
              "#ed7953"
             ],
             [
              0.7777777777777778,
              "#fb9f3a"
             ],
             [
              0.8888888888888888,
              "#fdca26"
             ],
             [
              1,
              "#f0f921"
             ]
            ],
            "type": "heatmap"
           }
          ],
          "heatmapgl": [
           {
            "colorbar": {
             "outlinewidth": 0,
             "ticks": ""
            },
            "colorscale": [
             [
              0,
              "#0d0887"
             ],
             [
              0.1111111111111111,
              "#46039f"
             ],
             [
              0.2222222222222222,
              "#7201a8"
             ],
             [
              0.3333333333333333,
              "#9c179e"
             ],
             [
              0.4444444444444444,
              "#bd3786"
             ],
             [
              0.5555555555555556,
              "#d8576b"
             ],
             [
              0.6666666666666666,
              "#ed7953"
             ],
             [
              0.7777777777777778,
              "#fb9f3a"
             ],
             [
              0.8888888888888888,
              "#fdca26"
             ],
             [
              1,
              "#f0f921"
             ]
            ],
            "type": "heatmapgl"
           }
          ],
          "histogram": [
           {
            "marker": {
             "pattern": {
              "fillmode": "overlay",
              "size": 10,
              "solidity": 0.2
             }
            },
            "type": "histogram"
           }
          ],
          "histogram2d": [
           {
            "colorbar": {
             "outlinewidth": 0,
             "ticks": ""
            },
            "colorscale": [
             [
              0,
              "#0d0887"
             ],
             [
              0.1111111111111111,
              "#46039f"
             ],
             [
              0.2222222222222222,
              "#7201a8"
             ],
             [
              0.3333333333333333,
              "#9c179e"
             ],
             [
              0.4444444444444444,
              "#bd3786"
             ],
             [
              0.5555555555555556,
              "#d8576b"
             ],
             [
              0.6666666666666666,
              "#ed7953"
             ],
             [
              0.7777777777777778,
              "#fb9f3a"
             ],
             [
              0.8888888888888888,
              "#fdca26"
             ],
             [
              1,
              "#f0f921"
             ]
            ],
            "type": "histogram2d"
           }
          ],
          "histogram2dcontour": [
           {
            "colorbar": {
             "outlinewidth": 0,
             "ticks": ""
            },
            "colorscale": [
             [
              0,
              "#0d0887"
             ],
             [
              0.1111111111111111,
              "#46039f"
             ],
             [
              0.2222222222222222,
              "#7201a8"
             ],
             [
              0.3333333333333333,
              "#9c179e"
             ],
             [
              0.4444444444444444,
              "#bd3786"
             ],
             [
              0.5555555555555556,
              "#d8576b"
             ],
             [
              0.6666666666666666,
              "#ed7953"
             ],
             [
              0.7777777777777778,
              "#fb9f3a"
             ],
             [
              0.8888888888888888,
              "#fdca26"
             ],
             [
              1,
              "#f0f921"
             ]
            ],
            "type": "histogram2dcontour"
           }
          ],
          "mesh3d": [
           {
            "colorbar": {
             "outlinewidth": 0,
             "ticks": ""
            },
            "type": "mesh3d"
           }
          ],
          "parcoords": [
           {
            "line": {
             "colorbar": {
              "outlinewidth": 0,
              "ticks": ""
             }
            },
            "type": "parcoords"
           }
          ],
          "pie": [
           {
            "automargin": true,
            "type": "pie"
           }
          ],
          "scatter": [
           {
            "marker": {
             "colorbar": {
              "outlinewidth": 0,
              "ticks": ""
             }
            },
            "type": "scatter"
           }
          ],
          "scatter3d": [
           {
            "line": {
             "colorbar": {
              "outlinewidth": 0,
              "ticks": ""
             }
            },
            "marker": {
             "colorbar": {
              "outlinewidth": 0,
              "ticks": ""
             }
            },
            "type": "scatter3d"
           }
          ],
          "scattercarpet": [
           {
            "marker": {
             "colorbar": {
              "outlinewidth": 0,
              "ticks": ""
             }
            },
            "type": "scattercarpet"
           }
          ],
          "scattergeo": [
           {
            "marker": {
             "colorbar": {
              "outlinewidth": 0,
              "ticks": ""
             }
            },
            "type": "scattergeo"
           }
          ],
          "scattergl": [
           {
            "marker": {
             "colorbar": {
              "outlinewidth": 0,
              "ticks": ""
             }
            },
            "type": "scattergl"
           }
          ],
          "scattermapbox": [
           {
            "marker": {
             "colorbar": {
              "outlinewidth": 0,
              "ticks": ""
             }
            },
            "type": "scattermapbox"
           }
          ],
          "scatterpolar": [
           {
            "marker": {
             "colorbar": {
              "outlinewidth": 0,
              "ticks": ""
             }
            },
            "type": "scatterpolar"
           }
          ],
          "scatterpolargl": [
           {
            "marker": {
             "colorbar": {
              "outlinewidth": 0,
              "ticks": ""
             }
            },
            "type": "scatterpolargl"
           }
          ],
          "scatterternary": [
           {
            "marker": {
             "colorbar": {
              "outlinewidth": 0,
              "ticks": ""
             }
            },
            "type": "scatterternary"
           }
          ],
          "surface": [
           {
            "colorbar": {
             "outlinewidth": 0,
             "ticks": ""
            },
            "colorscale": [
             [
              0,
              "#0d0887"
             ],
             [
              0.1111111111111111,
              "#46039f"
             ],
             [
              0.2222222222222222,
              "#7201a8"
             ],
             [
              0.3333333333333333,
              "#9c179e"
             ],
             [
              0.4444444444444444,
              "#bd3786"
             ],
             [
              0.5555555555555556,
              "#d8576b"
             ],
             [
              0.6666666666666666,
              "#ed7953"
             ],
             [
              0.7777777777777778,
              "#fb9f3a"
             ],
             [
              0.8888888888888888,
              "#fdca26"
             ],
             [
              1,
              "#f0f921"
             ]
            ],
            "type": "surface"
           }
          ],
          "table": [
           {
            "cells": {
             "fill": {
              "color": "#EBF0F8"
             },
             "line": {
              "color": "white"
             }
            },
            "header": {
             "fill": {
              "color": "#C8D4E3"
             },
             "line": {
              "color": "white"
             }
            },
            "type": "table"
           }
          ]
         },
         "layout": {
          "annotationdefaults": {
           "arrowcolor": "#2a3f5f",
           "arrowhead": 0,
           "arrowwidth": 1
          },
          "autotypenumbers": "strict",
          "coloraxis": {
           "colorbar": {
            "outlinewidth": 0,
            "ticks": ""
           }
          },
          "colorscale": {
           "diverging": [
            [
             0,
             "#8e0152"
            ],
            [
             0.1,
             "#c51b7d"
            ],
            [
             0.2,
             "#de77ae"
            ],
            [
             0.3,
             "#f1b6da"
            ],
            [
             0.4,
             "#fde0ef"
            ],
            [
             0.5,
             "#f7f7f7"
            ],
            [
             0.6,
             "#e6f5d0"
            ],
            [
             0.7,
             "#b8e186"
            ],
            [
             0.8,
             "#7fbc41"
            ],
            [
             0.9,
             "#4d9221"
            ],
            [
             1,
             "#276419"
            ]
           ],
           "sequential": [
            [
             0,
             "#0d0887"
            ],
            [
             0.1111111111111111,
             "#46039f"
            ],
            [
             0.2222222222222222,
             "#7201a8"
            ],
            [
             0.3333333333333333,
             "#9c179e"
            ],
            [
             0.4444444444444444,
             "#bd3786"
            ],
            [
             0.5555555555555556,
             "#d8576b"
            ],
            [
             0.6666666666666666,
             "#ed7953"
            ],
            [
             0.7777777777777778,
             "#fb9f3a"
            ],
            [
             0.8888888888888888,
             "#fdca26"
            ],
            [
             1,
             "#f0f921"
            ]
           ],
           "sequentialminus": [
            [
             0,
             "#0d0887"
            ],
            [
             0.1111111111111111,
             "#46039f"
            ],
            [
             0.2222222222222222,
             "#7201a8"
            ],
            [
             0.3333333333333333,
             "#9c179e"
            ],
            [
             0.4444444444444444,
             "#bd3786"
            ],
            [
             0.5555555555555556,
             "#d8576b"
            ],
            [
             0.6666666666666666,
             "#ed7953"
            ],
            [
             0.7777777777777778,
             "#fb9f3a"
            ],
            [
             0.8888888888888888,
             "#fdca26"
            ],
            [
             1,
             "#f0f921"
            ]
           ]
          },
          "colorway": [
           "#636efa",
           "#EF553B",
           "#00cc96",
           "#ab63fa",
           "#FFA15A",
           "#19d3f3",
           "#FF6692",
           "#B6E880",
           "#FF97FF",
           "#FECB52"
          ],
          "font": {
           "color": "#2a3f5f"
          },
          "geo": {
           "bgcolor": "white",
           "lakecolor": "white",
           "landcolor": "#E5ECF6",
           "showlakes": true,
           "showland": true,
           "subunitcolor": "white"
          },
          "hoverlabel": {
           "align": "left"
          },
          "hovermode": "closest",
          "mapbox": {
           "style": "light"
          },
          "paper_bgcolor": "white",
          "plot_bgcolor": "#E5ECF6",
          "polar": {
           "angularaxis": {
            "gridcolor": "white",
            "linecolor": "white",
            "ticks": ""
           },
           "bgcolor": "#E5ECF6",
           "radialaxis": {
            "gridcolor": "white",
            "linecolor": "white",
            "ticks": ""
           }
          },
          "scene": {
           "xaxis": {
            "backgroundcolor": "#E5ECF6",
            "gridcolor": "white",
            "gridwidth": 2,
            "linecolor": "white",
            "showbackground": true,
            "ticks": "",
            "zerolinecolor": "white"
           },
           "yaxis": {
            "backgroundcolor": "#E5ECF6",
            "gridcolor": "white",
            "gridwidth": 2,
            "linecolor": "white",
            "showbackground": true,
            "ticks": "",
            "zerolinecolor": "white"
           },
           "zaxis": {
            "backgroundcolor": "#E5ECF6",
            "gridcolor": "white",
            "gridwidth": 2,
            "linecolor": "white",
            "showbackground": true,
            "ticks": "",
            "zerolinecolor": "white"
           }
          },
          "shapedefaults": {
           "line": {
            "color": "#2a3f5f"
           }
          },
          "ternary": {
           "aaxis": {
            "gridcolor": "white",
            "linecolor": "white",
            "ticks": ""
           },
           "baxis": {
            "gridcolor": "white",
            "linecolor": "white",
            "ticks": ""
           },
           "bgcolor": "#E5ECF6",
           "caxis": {
            "gridcolor": "white",
            "linecolor": "white",
            "ticks": ""
           }
          },
          "title": {
           "x": 0.05
          },
          "xaxis": {
           "automargin": true,
           "gridcolor": "white",
           "linecolor": "white",
           "ticks": "",
           "title": {
            "standoff": 15
           },
           "zerolinecolor": "white",
           "zerolinewidth": 2
          },
          "yaxis": {
           "automargin": true,
           "gridcolor": "white",
           "linecolor": "white",
           "ticks": "",
           "title": {
            "standoff": 15
           },
           "zerolinecolor": "white",
           "zerolinewidth": 2
          }
         }
        },
        "xaxis": {
         "autorange": true,
         "range": [
          -0.08273759511044944,
          1.0781346749179657
         ],
         "type": "linear"
        },
        "yaxis": {
         "autorange": true,
         "range": [
          -0.12855554913242226,
          1.1364088487975743
         ],
         "type": "linear"
        }
       }
      },
      "image/png": "[encoded data removed]",
      "text/html": [
       "<div>                            <div id=\"8115695b-e89d-4450-80e6-1e3c597304f8\" class=\"plotly-graph-div\" style=\"height:525px; width:100%;\"></div>            <script type=\"text/javascript\">                require([\"plotly\"], function(Plotly) {                    window.PLOTLYENV=window.PLOTLYENV || {};                                    if (document.getElementById(\"8115695b-e89d-4450-80e6-1e3c597304f8\")) {                    Plotly.newPlot(                        \"8115695b-e89d-4450-80e6-1e3c597304f8\",                        [{\"marker\":{\"color\":[0.9501761192470797,0.5566531881951564,0.9156063497662745,0.6415662089463375,0.39000771414124624,0.48599066709690975,0.6043104829199732,0.5495479215085626,0.9261814267064536,0.9187334356336061,0.3948756129235549,0.9632625284407118,0.17395566668046436,0.12632951943963733,0.13507915804673132,0.5056621656768967,0.021524805274197978,0.947970211217681,0.8271154711707325,0.015018980742122379,0.17619625557505525,0.332063574366837,0.1309968448109169,0.8094906921265821,0.34473665268329345,0.9401074823333672,0.58201417994708,0.8788319844118441,0.8447344453922219,0.9053923187086492,0.45988026581680697,0.5463468160203733,0.7986035911520394,0.28571885173414757,0.4902535226199277,0.5991103076458784,0.015533275550835723,0.5934814081966372,0.4336763489894583,0.8073605288848414,0.31524480309537295,0.8928887085251513,0.5778572152845355,0.18401020162746506,0.7879292338255043,0.6120311770449339,0.053909272073752956,0.4201936800011322,0.6790688365654296,0.9186017779775258,0.00040202489135743313,0.9767591490310596,0.37658031474577447,0.9737835383583225,0.604716100974053,0.828845807980693,0.5747115047081023,0.6280761983073504,0.28557628169569393,0.586833340656083,0.7500217637026599,0.8583138364290424,0.7550821884676802,0.698057248447303,0.8644794300545998,0.32268099683674645,0.6707887907875872,0.45087393641334916,0.3821027520315172,0.4108113499221856,0.4014795834695406,0.3173839459582769,0.6219193679203014,0.43024727082126435,0.9738020779272523,0.6778008914343111,0.19856988842711087,0.4267010093480328,0.343346239774423,0.7976388039585666,0.8799982885634318,0.903841955826372,0.6627198123752622,0.2702082620297578,0.25236670150458973,0.8548979426974024,0.5277146463087466,0.8021610840045981,0.5724885171916063,0.7331425252875111,0.5190116274640558,0.770883910501888,0.5688579907047155,0.4657098785919809,0.3426889079532818,0.06820934841670412,0.37792417932809985,0.07962607769825236,0.982817113730445,0.18161285133076377],\"colorscale\":[[0.0,\"#440154\"],[0.1111111111111111,\"#482878\"],[0.2222222222222222,\"#3e4989\"],[0.3333333333333333,\"#31688e\"],[0.4444444444444444,\"#26828e\"],[0.5555555555555556,\"#1f9e89\"],[0.6666666666666666,\"#35b779\"],[0.7777777777777778,\"#6ece58\"],[0.8888888888888888,\"#b5de2b\"],[1.0,\"#fde725\"]],\"opacity\":0.6,\"size\":[24.355760931616192,26.248849348676945,20.652397571578298,17.08483238236127,4.829143104468264,14.006400682899189,10.35516153465645,6.7511987344225375,17.775356062973902,9.368095131057508,27.48916660405052,27.28906574854671,7.713548813465886,3.3267390223208757,5.788881960573385,14.987525120366582,21.85757003923789,6.245833152263744,7.441006751316922,25.55015624809101,12.47546154802582,18.500552014657085,7.009984177177502,3.059017782773923,15.475710509055894,14.31422961149347,4.580149322794897,18.654186952212466,16.320303564418143,19.62412040912233,4.336366203739795,22.545834514057315,6.66147419399768,15.58055473098099,23.558880846648567,0.6699128397541854,9.730873791785594,26.18767129200333,25.341288228062087,16.15321777783631,25.99824822499539,28.494179740608796,24.79220992888024,25.62346331509616,2.9623020546104506,19.53912997022973,21.105509644579588,18.30722437939889,23.988457852080842,1.0371365961490275,23.1071620366494,21.95185802218581,7.7909517989505925,7.712078964664401,18.969099522903832,10.358923847732447,23.897660340218625,13.384386960103718,23.482482443525157,29.71415350871522,9.007450186017001,4.290174847742981,27.039253090478216,16.2467813666212,29.242211125652467,19.098132000056918,29.81739073831437,16.38212412428855,15.792778017165638,4.062837092165097,10.671155129516434,0.7865570188911986,4.811855385589473,22.36911578122488,0.9119906978636649,10.99629291731233,25.870387585141323,20.780331525220628,20.728264261985057,5.659104028659327,13.2571284224527,17.447322220328736,29.692551229911157,6.1171867569936555,7.431987052870646,7.865192513187358,22.505172398939784,13.709259823070784,1.7078831523328497,15.255487218307188,6.358804939310279,23.958127342806307,8.919941445218168,0.8281803586351089,17.80297348393863,25.315212867935664,11.430483721866425,22.495749321784302,15.334244348913845,16.22855414886566]},\"mode\":\"markers\",\"type\":\"scatter\",\"x\":[0.417022004702574,0.7203244934421581,0.00011437481734488664,0.30233257263183977,0.14675589081711304,0.0923385947687978,0.1862602113776709,0.34556072704304774,0.39676747423066994,0.538816734003357,0.4191945144032948,0.6852195003967595,0.20445224973151743,0.8781174363909454,0.027387593197926163,0.6704675101784022,0.41730480236712697,0.5586898284457517,0.14038693859523377,0.1981014890848788,0.8007445686755367,0.9682615757193975,0.31342417815924284,0.6923226156693141,0.8763891522960383,0.8946066635038473,0.08504421136977791,0.03905478323288236,0.1698304195645689,0.8781425034294131,0.0983468338330501,0.42110762500505217,0.9578895301505019,0.5331652849730171,0.6918771139504734,0.31551563100606295,0.6865009276815837,0.8346256718973729,0.018288277344191806,0.7501443149449675,0.9888610889064947,0.7481656543798394,0.2804439920644052,0.7892793284514885,0.10322600657764203,0.44789352617590517,0.9085955030930956,0.2936141483736795,0.28777533858634874,0.13002857211827767,0.019366957870297075,0.678835532939891,0.21162811600005904,0.2655466593722262,0.4915731592803383,0.053362545117080384,0.5741176054920131,0.14672857490581015,0.5893055369032842,0.6997583600209312,0.10233442882782584,0.4140559878195683,0.6944001577277451,0.41417926952690265,0.04995345894608716,0.5358964059155116,0.6637946452197888,0.5148891120583086,0.9445947559908133,0.5865550405019929,0.9034019152878835,0.13747470414623753,0.13927634725075855,0.8073912887095238,0.3976768369855336,0.16535419711693278,0.9275085803960339,0.34776585974550656,0.7508121031361555,0.7259979853504515,0.8833060912058098,0.6236722070556089,0.7509424340273372,0.34889834197784253,0.2699278917650261,0.8958862181960668,0.4280911898712949,0.9648400471483856,0.6634414978184481,0.6216957202091218,0.11474597295337519,0.9494892587070712,0.4499121334799405,0.5783896143871318,0.40813680276128117,0.2370269802430277,0.9033795205622538,0.5736794866722859,0.00287032703115897,0.6171449136207239],\"y\":[0.32664490177209615,0.5270581022576093,0.8859420993107745,0.35726976000249977,0.9085351509197992,0.6233601157918027,0.015821242846556283,0.9294372337437613,0.690896917516924,0.9973228504514805,0.17234050834532855,0.13713574962887776,0.9325954630371636,0.6968181614899002,0.06600017272206249,0.7554630526024664,0.7538761884612464,0.9230245355464833,0.7115247586284718,0.1242709619721647,0.01988013383979559,0.026210986877719278,0.028306488020794607,0.2462110676030459,0.860027948682888,0.5388310643416528,0.5528219786857659,0.8420308923596057,0.12417331511991114,0.2791836790111395,0.5857592714582879,0.9695957483196745,0.56103021925571,0.01864728937294302,0.8006326726806163,0.23297427384102043,0.8071051956187791,0.38786064406417176,0.8635418545594287,0.7471216427371846,0.5562402339904189,0.13645522566068502,0.05991768951221166,0.12134345574073735,0.044551878544761725,0.1074941291060929,0.2257093386078547,0.7129889803826767,0.5597169820541424,0.012555980159115854,0.07197427968948678,0.967276330000272,0.5681004619199421,0.20329323466099047,0.2523257445703234,0.7438258540750929,0.1954294811093188,0.5813589272732578,0.9700199890883123,0.8468288014900353,0.23984775914758616,0.49376971426872995,0.6199557183813798,0.8289808995501787,0.15679139464608427,0.018576202177409518,0.07002214371922233,0.4863451109370318,0.6063294616533303,0.5688514370864813,0.31736240932216075,0.9886161544124489,0.5797452192457969,0.3801411726235504,0.5509482191178968,0.7453344309065021,0.6692328934531846,0.2649195576628094,0.06633483442844157,0.3700841979141063,0.6297175070215645,0.2101740099148396,0.7527555537388139,0.06653648135411494,0.26031509857854096,0.8047545637433454,0.19343428262332774,0.6394608808799401,0.5246703091237337,0.9248079703993507,0.263296770487111,0.06596109068402378,0.7350659632886695,0.7721780295432468,0.907815852503524,0.9319720691968373,0.013951572975597015,0.2343620861214205,0.6167783570016576,0.9490163206876164]}],                        {\"template\":{\"data\":{\"bar\":[{\"error_x\":{\"color\":\"#2a3f5f\"},\"error_y\":{\"color\":\"#2a3f5f\"},\"marker\":{\"line\":{\"color\":\"#E5ECF6\",\"width\":0.5},\"pattern\":{\"fillmode\":\"overlay\",\"size\":10,\"solidity\":0.2}},\"type\":\"bar\"}],\"barpolar\":[{\"marker\":{\"line\":{\"color\":\"#E5ECF6\",\"width\":0.5},\"pattern\":{\"fillmode\":\"overlay\",\"size\":10,\"solidity\":0.2}},\"type\":\"barpolar\"}],\"carpet\":[{\"aaxis\":{\"endlinecolor\":\"#2a3f5f\",\"gridcolor\":\"white\",\"linecolor\":\"white\",\"minorgridcolor\":\"white\",\"startlinecolor\":\"#2a3f5f\"},\"baxis\":{\"endlinecolor\":\"#2a3f5f\",\"gridcolor\":\"white\",\"linecolor\":\"white\",\"minorgridcolor\":\"white\",\"startlinecolor\":\"#2a3f5f\"},\"type\":\"carpet\"}],\"choropleth\":[{\"colorbar\":{\"outlinewidth\":0,\"ticks\":\"\"},\"type\":\"choropleth\"}],\"contour\":[{\"colorbar\":{\"outlinewidth\":0,\"ticks\":\"\"},\"colorscale\":[[0.0,\"#0d0887\"],[0.1111111111111111,\"#46039f\"],[0.2222222222222222,\"#7201a8\"],[0.3333333333333333,\"#9c179e\"],[0.4444444444444444,\"#bd3786\"],[0.5555555555555556,\"#d8576b\"],[0.6666666666666666,\"#ed7953\"],[0.7777777777777778,\"#fb9f3a\"],[0.8888888888888888,\"#fdca26\"],[1.0,\"#f0f921\"]],\"type\":\"contour\"}],\"contourcarpet\":[{\"colorbar\":{\"outlinewidth\":0,\"ticks\":\"\"},\"type\":\"contourcarpet\"}],\"heatmap\":[{\"colorbar\":{\"outlinewidth\":0,\"ticks\":\"\"},\"colorscale\":[[0.0,\"#0d0887\"],[0.1111111111111111,\"#46039f\"],[0.2222222222222222,\"#7201a8\"],[0.3333333333333333,\"#9c179e\"],[0.4444444444444444,\"#bd3786\"],[0.5555555555555556,\"#d8576b\"],[0.6666666666666666,\"#ed7953\"],[0.7777777777777778,\"#fb9f3a\"],[0.8888888888888888,\"#fdca26\"],[1.0,\"#f0f921\"]],\"type\":\"heatmap\"}],\"heatmapgl\":[{\"colorbar\":{\"outlinewidth\":0,\"ticks\":\"\"},\"colorscale\":[[0.0,\"#0d0887\"],[0.1111111111111111,\"#46039f\"],[0.2222222222222222,\"#7201a8\"],[0.3333333333333333,\"#9c179e\"],[0.4444444444444444,\"#bd3786\"],[0.5555555555555556,\"#d8576b\"],[0.6666666666666666,\"#ed7953\"],[0.7777777777777778,\"#fb9f3a\"],[0.8888888888888888,\"#fdca26\"],[1.0,\"#f0f921\"]],\"type\":\"heatmapgl\"}],\"histogram\":[{\"marker\":{\"pattern\":{\"fillmode\":\"overlay\",\"size\":10,\"solidity\":0.2}},\"type\":\"histogram\"}],\"histogram2d\":[{\"colorbar\":{\"outlinewidth\":0,\"ticks\":\"\"},\"colorscale\":[[0.0,\"#0d0887\"],[0.1111111111111111,\"#46039f\"],[0.2222222222222222,\"#7201a8\"],[0.3333333333333333,\"#9c179e\"],[0.4444444444444444,\"#bd3786\"],[0.5555555555555556,\"#d8576b\"],[0.6666666666666666,\"#ed7953\"],[0.7777777777777778,\"#fb9f3a\"],[0.8888888888888888,\"#fdca26\"],[1.0,\"#f0f921\"]],\"type\":\"histogram2d\"}],\"histogram2dcontour\":[{\"colorbar\":{\"outlinewidth\":0,\"ticks\":\"\"},\"colorscale\":[[0.0,\"#0d0887\"],[0.1111111111111111,\"#46039f\"],[0.2222222222222222,\"#7201a8\"],[0.3333333333333333,\"#9c179e\"],[0.4444444444444444,\"#bd3786\"],[0.5555555555555556,\"#d8576b\"],[0.6666666666666666,\"#ed7953\"],[0.7777777777777778,\"#fb9f3a\"],[0.8888888888888888,\"#fdca26\"],[1.0,\"#f0f921\"]],\"type\":\"histogram2dcontour\"}],\"mesh3d\":[{\"colorbar\":{\"outlinewidth\":0,\"ticks\":\"\"},\"type\":\"mesh3d\"}],\"parcoords\":[{\"line\":{\"colorbar\":{\"outlinewidth\":0,\"ticks\":\"\"}},\"type\":\"parcoords\"}],\"pie\":[{\"automargin\":true,\"type\":\"pie\"}],\"scatter\":[{\"marker\":{\"colorbar\":{\"outlinewidth\":0,\"ticks\":\"\"}},\"type\":\"scatter\"}],\"scatter3d\":[{\"line\":{\"colorbar\":{\"outlinewidth\":0,\"ticks\":\"\"}},\"marker\":{\"colorbar\":{\"outlinewidth\":0,\"ticks\":\"\"}},\"type\":\"scatter3d\"}],\"scattercarpet\":[{\"marker\":{\"colorbar\":{\"outlinewidth\":0,\"ticks\":\"\"}},\"type\":\"scattercarpet\"}],\"scattergeo\":[{\"marker\":{\"colorbar\":{\"outlinewidth\":0,\"ticks\":\"\"}},\"type\":\"scattergeo\"}],\"scattergl\":[{\"marker\":{\"colorbar\":{\"outlinewidth\":0,\"ticks\":\"\"}},\"type\":\"scattergl\"}],\"scattermapbox\":[{\"marker\":{\"colorbar\":{\"outlinewidth\":0,\"ticks\":\"\"}},\"type\":\"scattermapbox\"}],\"scatterpolar\":[{\"marker\":{\"colorbar\":{\"outlinewidth\":0,\"ticks\":\"\"}},\"type\":\"scatterpolar\"}],\"scatterpolargl\":[{\"marker\":{\"colorbar\":{\"outlinewidth\":0,\"ticks\":\"\"}},\"type\":\"scatterpolargl\"}],\"scatterternary\":[{\"marker\":{\"colorbar\":{\"outlinewidth\":0,\"ticks\":\"\"}},\"type\":\"scatterternary\"}],\"surface\":[{\"colorbar\":{\"outlinewidth\":0,\"ticks\":\"\"},\"colorscale\":[[0.0,\"#0d0887\"],[0.1111111111111111,\"#46039f\"],[0.2222222222222222,\"#7201a8\"],[0.3333333333333333,\"#9c179e\"],[0.4444444444444444,\"#bd3786\"],[0.5555555555555556,\"#d8576b\"],[0.6666666666666666,\"#ed7953\"],[0.7777777777777778,\"#fb9f3a\"],[0.8888888888888888,\"#fdca26\"],[1.0,\"#f0f921\"]],\"type\":\"surface\"}],\"table\":[{\"cells\":{\"fill\":{\"color\":\"#EBF0F8\"},\"line\":{\"color\":\"white\"}},\"header\":{\"fill\":{\"color\":\"#C8D4E3\"},\"line\":{\"color\":\"white\"}},\"type\":\"table\"}]},\"layout\":{\"annotationdefaults\":{\"arrowcolor\":\"#2a3f5f\",\"arrowhead\":0,\"arrowwidth\":1},\"autotypenumbers\":\"strict\",\"coloraxis\":{\"colorbar\":{\"outlinewidth\":0,\"ticks\":\"\"}},\"colorscale\":{\"diverging\":[[0,\"#8e0152\"],[0.1,\"#c51b7d\"],[0.2,\"#de77ae\"],[0.3,\"#f1b6da\"],[0.4,\"#fde0ef\"],[0.5,\"#f7f7f7\"],[0.6,\"#e6f5d0\"],[0.7,\"#b8e186\"],[0.8,\"#7fbc41\"],[0.9,\"#4d9221\"],[1,\"#276419\"]],\"sequential\":[[0.0,\"#0d0887\"],[0.1111111111111111,\"#46039f\"],[0.2222222222222222,\"#7201a8\"],[0.3333333333333333,\"#9c179e\"],[0.4444444444444444,\"#bd3786\"],[0.5555555555555556,\"#d8576b\"],[0.6666666666666666,\"#ed7953\"],[0.7777777777777778,\"#fb9f3a\"],[0.8888888888888888,\"#fdca26\"],[1.0,\"#f0f921\"]],\"sequentialminus\":[[0.0,\"#0d0887\"],[0.1111111111111111,\"#46039f\"],[0.2222222222222222,\"#7201a8\"],[0.3333333333333333,\"#9c179e\"],[0.4444444444444444,\"#bd3786\"],[0.5555555555555556,\"#d8576b\"],[0.6666666666666666,\"#ed7953\"],[0.7777777777777778,\"#fb9f3a\"],[0.8888888888888888,\"#fdca26\"],[1.0,\"#f0f921\"]]},\"colorway\":[\"#636efa\",\"#EF553B\",\"#00cc96\",\"#ab63fa\",\"#FFA15A\",\"#19d3f3\",\"#FF6692\",\"#B6E880\",\"#FF97FF\",\"#FECB52\"],\"font\":{\"color\":\"#2a3f5f\"},\"geo\":{\"bgcolor\":\"white\",\"lakecolor\":\"white\",\"landcolor\":\"#E5ECF6\",\"showlakes\":true,\"showland\":true,\"subunitcolor\":\"white\"},\"hoverlabel\":{\"align\":\"left\"},\"hovermode\":\"closest\",\"mapbox\":{\"style\":\"light\"},\"paper_bgcolor\":\"white\",\"plot_bgcolor\":\"#E5ECF6\",\"polar\":{\"angularaxis\":{\"gridcolor\":\"white\",\"linecolor\":\"white\",\"ticks\":\"\"},\"bgcolor\":\"#E5ECF6\",\"radialaxis\":{\"gridcolor\":\"white\",\"linecolor\":\"white\",\"ticks\":\"\"}},\"scene\":{\"xaxis\":{\"backgroundcolor\":\"#E5ECF6\",\"gridcolor\":\"white\",\"gridwidth\":2,\"linecolor\":\"white\",\"showbackground\":true,\"ticks\":\"\",\"zerolinecolor\":\"white\"},\"yaxis\":{\"backgroundcolor\":\"#E5ECF6\",\"gridcolor\":\"white\",\"gridwidth\":2,\"linecolor\":\"white\",\"showbackground\":true,\"ticks\":\"\",\"zerolinecolor\":\"white\"},\"zaxis\":{\"backgroundcolor\":\"#E5ECF6\",\"gridcolor\":\"white\",\"gridwidth\":2,\"linecolor\":\"white\",\"showbackground\":true,\"ticks\":\"\",\"zerolinecolor\":\"white\"}},\"shapedefaults\":{\"line\":{\"color\":\"#2a3f5f\"}},\"ternary\":{\"aaxis\":{\"gridcolor\":\"white\",\"linecolor\":\"white\",\"ticks\":\"\"},\"baxis\":{\"gridcolor\":\"white\",\"linecolor\":\"white\",\"ticks\":\"\"},\"bgcolor\":\"#E5ECF6\",\"caxis\":{\"gridcolor\":\"white\",\"linecolor\":\"white\",\"ticks\":\"\"}},\"title\":{\"x\":0.05},\"xaxis\":{\"automargin\":true,\"gridcolor\":\"white\",\"linecolor\":\"white\",\"ticks\":\"\",\"title\":{\"standoff\":15},\"zerolinecolor\":\"white\",\"zerolinewidth\":2},\"yaxis\":{\"automargin\":true,\"gridcolor\":\"white\",\"linecolor\":\"white\",\"ticks\":\"\",\"title\":{\"standoff\":15},\"zerolinecolor\":\"white\",\"zerolinewidth\":2}}}},                        {\"responsive\": true}                    ).then(function(){\n",
       "                            \n",
       "var gd = document.getElementById('8115695b-e89d-4450-80e6-1e3c597304f8');\n",
       "var x = new MutationObserver(function (mutations, observer) {{\n",
       "        var display = window.getComputedStyle(gd).display;\n",
       "        if (!display || display === 'none') {{\n",
       "            console.log([gd, 'removed!']);\n",
       "            Plotly.purge(gd);\n",
       "            observer.disconnect();\n",
       "        }}\n",
       "}});\n",
       "\n",
       "// Listen for the removal of the full notebook cells\n",
       "var notebookContainer = gd.closest('#notebook-container');\n",
       "if (notebookContainer) {{\n",
       "    x.observe(notebookContainer, {childList: true});\n",
       "}}\n",
       "\n",
       "// Listen for the clearing of the current output cell\n",
       "var outputEl = gd.closest('.output');\n",
       "if (outputEl) {{\n",
       "    x.observe(outputEl, {childList: true});\n",
       "}}\n",
       "\n",
       "                        })                };                });            </script>        </div>"
      ]
     },
     "metadata": {},
     "output_type": "display_data"
    }
   ],
   "source": [
    "import plotly.graph_objects as go\n",
    "import numpy as np\n",
    "np.random.seed(1)\n",
    "\n",
    "N = 100\n",
    "x = np.random.rand(N)\n",
    "y = np.random.rand(N)\n",
    "colors = np.random.rand(N)\n",
    "sz = np.random.rand(N) * 30\n",
    "\n",
    "fig = go.Figure()\n",
    "fig.add_trace(go.Scatter(\n",
    "    x=x,\n",
    "    y=y,\n",
    "    mode=\"markers\",\n",
    "    marker=go.scatter.Marker(\n",
    "        size=sz,\n",
    "        color=colors,\n",
    "        opacity=0.6,\n",
    "        colorscale=\"Viridis\"\n",
    "    )\n",
    "))\n",
    "\n",
    "fig.show()"
   ]
  },
  {
   "cell_type": "code",
   "execution_count": null,
   "id": "2d0068f6-c374-4c19-8ce7-8e8a9c45f39d",
   "metadata": {},
   "outputs": [],
   "source": []
  },
  {
   "cell_type": "code",
   "execution_count": null,
   "id": "0387016e-9be5-443f-a5ee-acca0eaffda3",
   "metadata": {},
   "outputs": [],
   "source": []
  },
  {
   "cell_type": "code",
   "execution_count": null,
   "id": "ae191858-5a51-4af8-98c7-e45b5f463636",
   "metadata": {},
   "outputs": [],
   "source": []
  },
  {
   "cell_type": "code",
   "execution_count": null,
   "id": "0e7d74db-4ca3-49fb-a1ef-3184c0f3b0d2",
   "metadata": {},
   "outputs": [],
   "source": []
  },
  {
   "cell_type": "code",
   "execution_count": null,
   "id": "1324aaa3-4b6c-4f38-a65a-3d1073900650",
   "metadata": {},
   "outputs": [],
   "source": []
  },
  {
   "cell_type": "code",
   "execution_count": null,
   "id": "aeb68c1a-d575-4bae-abe4-38791dbf382a",
   "metadata": {},
   "outputs": [],
   "source": []
  },
  {
   "cell_type": "code",
   "execution_count": null,
   "id": "c7381c8a-43ae-4fb5-a813-c084545f5375",
   "metadata": {},
   "outputs": [],
   "source": []
  },
  {
   "cell_type": "code",
   "execution_count": 174,
   "id": "d8d094ca-7342-4798-a232-5ff041c71c2d",
   "metadata": {},
   "outputs": [
    {
     "name": "stdout",
     "output_type": "stream",
     "text": [
      "\u001b[1m\u001b[34mCNBC\u001b[m\u001b[m          \u001b[1m\u001b[34mUNHumanRights\u001b[m\u001b[m WHO.csv       config.py\n",
      "\u001b[1m\u001b[34mGreenpeace\u001b[m\u001b[m    \u001b[1m\u001b[34mWHO\u001b[m\u001b[m           \u001b[1m\u001b[34m__pycache__\u001b[m\u001b[m   get_tweets.py\n"
     ]
    }
   ],
   "source": [
    "!ls"
   ]
  },
  {
   "cell_type": "code",
   "execution_count": 176,
   "id": "3ee9f364-f7d7-4fa5-8b0b-8ffa55a38af8",
   "metadata": {},
   "outputs": [],
   "source": [
    "#MAKE IT TO A FUNCTION!\n",
    "\n",
    "#generalizee\n",
    "#path to textfiles need to be created in the function\n",
    "#name the function\n",
    "def sentiment_checker():\n",
    "   \n",
    "        # open and write into a new csv file\n",
    "        with open('{}.csv', mode='w') as csvFile:         #!!!\n",
    "            fieldnames = ['File_Name', 'Tweet', 'All_Scores', 'Compound_Score', 'Sentiment']\n",
    "            writer = csv.DictWriter(csvFile, fieldnames = fieldnames)\n",
    "            writer.writeheader()\n",
    "\n",
    "            #Sentiments for each tweet\n",
    "            analyzer = SentimentIntensityAnalyzer()\n",
    "            pred_WHO = []\n",
    "            for t in tweets_{i}:                           #tweets_* is a list of all the text files in the WHO folder (=tweets)\n",
    "                f = open(t, mode='r')\n",
    "                result = f.read()                          #change to string\n",
    "                f.close()\n",
    "                vs = analyzer.polarity_scores(result)      #vs is dictionary --> get single values\n",
    "                comp_score = list(vs.values())[3]          #parsee the third value of dictionary as composite score\n",
    "\n",
    "\n",
    "                pred_WHO.append(str(vs))\n",
    "\n",
    "\n",
    "                #print into CSV file\n",
    "                writer.writerow({'File_Name': t, 'Tweet': result, 'All_Scores': str(vs), 'Compound_Score': comp_score})\n",
    "\n",
    "        csvFile.close()    "
   ]
  }
 ],
 "metadata": {
  "kernelspec": {
   "display_name": "Python 3",
   "language": "python",
   "name": "python3"
  },
  "language_info": {
   "codemirror_mode": {
    "name": "ipython",
    "version": 3
   },
   "file_extension": ".py",
   "mimetype": "text/x-python",
   "name": "python",
   "nbconvert_exporter": "python",
   "pygments_lexer": "ipython3",
   "version": "3.8.8"
  }
 },
 "nbformat": 4,
 "nbformat_minor": 5
}
